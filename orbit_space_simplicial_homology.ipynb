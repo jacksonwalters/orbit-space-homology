{
 "cells": [
  {
   "cell_type": "code",
   "execution_count": 1,
   "metadata": {},
   "outputs": [],
   "source": [
    "n = 4\n",
    "N=binomial(n,2)\n",
    "#N=4"
   ]
  },
  {
   "cell_type": "code",
   "execution_count": 2,
   "metadata": {},
   "outputs": [],
   "source": [
    "#list of unordered pairs of elements in {1,...,n}\n",
    "def pairs(n): return flatten([[[i+1,j+1] for j in range(i+1,n)] for i in range(n-1)],max_level=1)\n",
    "\n",
    "#sigma acts on an unordered pair\n",
    "def act(sigma, p): return sorted([sigma(p[0]),sigma(p[1])])\n",
    "\n",
    "#sigma acts as matrix in basis on a vector v\n",
    "def act_vect(g,v,basis=identity_matrix(N)): return (basis.inverse()*g.matrix()*basis)*vector(v)\n",
    "\n",
    "#permutation in Sigma_N which induced from perm in Sigma_n\n",
    "def embed(sigma,n): return perm_from_sort([act(sigma,p) for p in pairs(n)])\n",
    "\n",
    "#find permutation which orders a list L\t\n",
    "def perm_from_sort(L): return Permutation([pair[0] for pair in sorted(enumerate(L, 1), key=lambda x: x[1])]).to_cycles()\n",
    "\n",
    "#image of generators of Sigma_n under embedding into Sigma_N\n",
    "def embed_gens(n): return [embed(gen,n) for gen in SymmetricGroup(n).gens()]"
   ]
  },
  {
   "cell_type": "code",
   "execution_count": 196,
   "metadata": {},
   "outputs": [],
   "source": [
    "def trans(n): return [SymmetricGroup(n)([(i,i+1)]) for i in range(1,n)]\n",
    "def embedded_trans(n): return [SymmetricGroup(binomial(n,2))(embed(gen,n)) for gen in trans(n)]"
   ]
  },
  {
   "cell_type": "code",
   "execution_count": 197,
   "metadata": {},
   "outputs": [
    {
     "data": {
      "text/plain": [
       "[(1,2), (2,3), (3,4)]"
      ]
     },
     "execution_count": 197,
     "metadata": {},
     "output_type": "execute_result"
    }
   ],
   "source": [
    "trans(4)"
   ]
  },
  {
   "cell_type": "code",
   "execution_count": 198,
   "metadata": {},
   "outputs": [
    {
     "data": {
      "text/plain": [
       "[(2,4)(3,5), (1,2)(5,6), (2,3)(4,5)]"
      ]
     },
     "execution_count": 198,
     "metadata": {},
     "output_type": "execute_result"
    }
   ],
   "source": [
    "embedded_trans(4)"
   ]
  },
  {
   "cell_type": "code",
   "execution_count": 169,
   "metadata": {},
   "outputs": [],
   "source": [
    "def bubble_sort(x,y):\n",
    "    n = len(x); assert len(x) == len(y)\n",
    "    for i in range(n):\n",
    "        for gen in trans(n):\n",
    "            if vector(x)*(gen.matrix()*vector(y)) >= vector(x)*vector(y):\n",
    "                y = gen.matrix()*vector(y)\n",
    "    return y"
   ]
  },
  {
   "cell_type": "code",
   "execution_count": 56,
   "metadata": {},
   "outputs": [],
   "source": [
    "#return n when N=(n choose 2)\n",
    "def invert_binomial(N):\n",
    "    for n in range(floor(sqrt(2*N)),floor(sqrt(2*N)+2)):\n",
    "        if binomial(n,2) == N:\n",
    "            return n"
   ]
  },
  {
   "cell_type": "code",
   "execution_count": 199,
   "metadata": {},
   "outputs": [
    {
     "data": {
      "text/plain": [
       "[(),\n",
       " (1,6)(2,5),\n",
       " (1,3,5)(2,6,4),\n",
       " (1,4,2)(3,5,6),\n",
       " (1,5,3)(2,4,6),\n",
       " (1,2,3)(4,6,5),\n",
       " (2,5)(3,4),\n",
       " (1,6)(3,4),\n",
       " (1,3,2)(4,5,6),\n",
       " (1,4,5)(2,6,3),\n",
       " (1,5,4)(2,3,6),\n",
       " (1,2,4)(3,6,5),\n",
       " (2,4)(3,5),\n",
       " (1,6)(2,4,5,3),\n",
       " (1,3)(4,6),\n",
       " (1,4)(3,6),\n",
       " (1,5)(2,6),\n",
       " (1,2,6,5)(3,4),\n",
       " (2,3)(4,5),\n",
       " (1,6)(2,3,5,4),\n",
       " (1,3,6,4)(2,5),\n",
       " (1,4,6,3)(2,5),\n",
       " (1,5,6,2)(3,4),\n",
       " (1,2)(5,6)]"
      ]
     },
     "execution_count": 199,
     "metadata": {},
     "output_type": "execute_result"
    }
   ],
   "source": [
    "G = PermutationGroup(embed_gens(4)); G.list()"
   ]
  },
  {
   "cell_type": "code",
   "execution_count": 206,
   "metadata": {},
   "outputs": [
    {
     "data": {
      "text/plain": [
       "[(2,4)(3,5), (1,2)(5,6), (2,3)(4,5)]"
      ]
     },
     "execution_count": 206,
     "metadata": {},
     "output_type": "execute_result"
    }
   ],
   "source": [
    "embedded_trans(4)"
   ]
  },
  {
   "cell_type": "code",
   "execution_count": 170,
   "metadata": {},
   "outputs": [],
   "source": [
    "#try the analog of bubble sort for networks\n",
    "#act using a list of n transpositions (i,i+1) in Sigma_n which are embedded in Sigma_N\n",
    "#unclear whether this will actually return y closest to x minimizing over all Sigma_n\n",
    "def network_bubble_sort(x,y):\n",
    "    assert len(x) == len(y)\n",
    "    print(angle(x,y))\n",
    "    n = invert_binomial(len(x)) \n",
    "    for i in range(n):\n",
    "        for gen in embedded_trans(n):\n",
    "            if vector(x)*(gen.matrix()*vector(y)) >= vector(x)*vector(y):\n",
    "                y = gen.matrix()*vector(y)\n",
    "    print(angle(x,y))\n",
    "    return y"
   ]
  },
  {
   "cell_type": "code",
   "execution_count": 171,
   "metadata": {},
   "outputs": [],
   "source": [
    "#naive minimum finding acting over entire group\n",
    "def find_min(x,y):\n",
    "    assert len(x) == len(y)\n",
    "    print(angle(x,y))\n",
    "    n = invert_binomial(len(x))\n",
    "    G = PermutationGroup(embed_gens(n))\n",
    "    for sigma in G:\n",
    "        if vector(x)*(sigma.matrix()*vector(y)) >= vector(x)*vector(y):\n",
    "            y = sigma.matrix()*vector(y)\n",
    "    print(angle(x,y))\n",
    "    return y"
   ]
  },
  {
   "cell_type": "code",
   "execution_count": 94,
   "metadata": {},
   "outputs": [],
   "source": [
    "def angle(x,y): return float(vector(x)*vector(y)/(vector(x).norm()*vector(y).norm()))"
   ]
  },
  {
   "cell_type": "code",
   "execution_count": 228,
   "metadata": {},
   "outputs": [],
   "source": [
    "import random\n",
    "N=binomial(7,2)\n",
    "net0 = [i+1 for i in range(N)]\n",
    "net1 = [random.uniform(0,1) for i in range(N)]"
   ]
  },
  {
   "cell_type": "code",
   "execution_count": 229,
   "metadata": {},
   "outputs": [
    {
     "name": "stdout",
     "output_type": "stream",
     "text": [
      "0.7201687124901561\n",
      "0.900174408472435\n"
     ]
    },
    {
     "data": {
      "text/plain": [
       "(0.1988557583239371, 0.11032720817342334, 0.2815678611592347, 0.2358670538289519, 0.26950638396152826, 0.19223099361601093, 0.959791109979348, 0.14941037866235662, 0.14662043835462946, 0.4205556315681548, 0.6129948437264732, 0.06552477419773817, 0.6475158417818099, 0.7082964927683668, 0.21800690683020363, 0.7965598568333757, 0.6767311538845784, 0.8070010725227278, 0.46999983177002747, 0.8174850551890307, 0.6810056903637747)"
      ]
     },
     "execution_count": 229,
     "metadata": {},
     "output_type": "execute_result"
    }
   ],
   "source": [
    "network_bubble_sort(net0,net1)"
   ]
  },
  {
   "cell_type": "code",
   "execution_count": 230,
   "metadata": {},
   "outputs": [
    {
     "name": "stdout",
     "output_type": "stream",
     "text": [
      "0.7201687124901561\n",
      "0.900174408472435\n"
     ]
    },
    {
     "data": {
      "text/plain": [
       "(0.1988557583239371, 0.11032720817342334, 0.2815678611592347, 0.2358670538289519, 0.26950638396152826, 0.19223099361601093, 0.959791109979348, 0.14941037866235662, 0.14662043835462946, 0.4205556315681548, 0.6129948437264732, 0.06552477419773817, 0.6475158417818099, 0.7082964927683668, 0.21800690683020363, 0.7965598568333757, 0.6767311538845784, 0.8070010725227278, 0.46999983177002747, 0.8174850551890307, 0.6810056903637747)"
      ]
     },
     "execution_count": 230,
     "metadata": {},
     "output_type": "execute_result"
    }
   ],
   "source": [
    "find_min(net0,net1)"
   ]
  },
  {
   "cell_type": "code",
   "execution_count": 106,
   "metadata": {},
   "outputs": [],
   "source": [
    "#fundamental domain given arbitrary distinct vector l and basis B\n",
    "def fund_domain(center=[i for i in range(N)],basis=identity_matrix(N),br=QQ,group=MatrixGroup(identity_matrix(N))):\n",
    "\n",
    "    #augmented matrix for half-plane ineqs\n",
    "    A = [ [center[j] - act_vect(group[i],vector(center),basis)[j] for j in range(N)] for i in range(group.order())]\n",
    "    b_1 = group.order()*[0]\n",
    "    bA = matrix(br,b_1).transpose().augment(matrix(br,A))\n",
    "\n",
    "    #augmented matrix for positivity ineqs\n",
    "    pos = basis.inverse().transpose()\n",
    "    b_2 = [0 for i in range(N)]\n",
    "    bPos = matrix(br,b_2).transpose().augment(pos)\n",
    "\n",
    "    #augmented matrix for fund. domain\n",
    "    aug_l = bA.stack(bPos)\n",
    "    \n",
    "    #find convex polyhedral region, i.e. intersection of all ineqs\n",
    "    poly = Polyhedron(ieqs=aug_l,base_ring=br)\n",
    "\n",
    "    return([aug_l,poly])"
   ]
  },
  {
   "cell_type": "code",
   "execution_count": 107,
   "metadata": {},
   "outputs": [],
   "source": [
    "#slice the fundamental domain with the plane x_1 + ... + x_N = 1\n",
    "def cross_section(region,slice_dir=[1 for i in range(N)],chi=1,br=None):\n",
    "    if br is None: br=region.base_ring()\n",
    "    return Polyhedron(ieqs=region.inequalities(),eqns=[[-1]+slice_dir],base_ring=br)"
   ]
  },
  {
   "cell_type": "code",
   "execution_count": 108,
   "metadata": {},
   "outputs": [],
   "source": [
    "#find fixed points under G in polyhedron F to include as new vertices\n",
    "#find intersection of fixed point subspace with F as polyhedron, and return those vertices\n",
    "def fixed_verts(F,br=QQ):\n",
    "    new_verts=set()\n",
    "    for g in G:\n",
    "        #get equations for fixed point subspace\n",
    "        A=g.matrix() #matrix associated to group element g\n",
    "        B=A-identity_matrix(N) #eqns defining fixed pt subspace are (A-Id)x == 0\n",
    "        b = N*[0] #0 vector\n",
    "        bB = matrix(br,b).transpose().augment(matrix(br,B))#form augmented matrix for equations defining subspace\n",
    "        #get equations for intersection\n",
    "        eqns=matrix(br,[list(eq) for eq in F.equations()]) #list of equations defining F\n",
    "        eqns=eqns.stack(bB) #augmented matrix including fixed point subspace equations\n",
    "        #get list of inequalities for fundamental domain as convex polyhedron\n",
    "        ieqs=matrix(br,[list(ieq) for ieq in F.inequalities()])\n",
    "        #form intersection of fund_domain with fixed point subspace\n",
    "        intersection_F_fixed_pt_subspace=Polyhedron(ieqs=ieqs,eqns=eqns)\n",
    "        verts=intersection_F_fixed_pt_subspace.vertices()\n",
    "        for vert in verts:\n",
    "            new_verts.add(tuple(vert))\n",
    "    return sorted(list(new_verts))"
   ]
  },
  {
   "cell_type": "code",
   "execution_count": 109,
   "metadata": {},
   "outputs": [],
   "source": [
    "#action of group element g on a face\n",
    "#if g.face is not in fund_domain defined by vertex list, return None\n",
    "def act_face(g,face,vertices):\n",
    "    try:\n",
    "        return [vertices.index(tuple(act_vect(g,vertices[i]))) for i in face]\n",
    "    except ValueError:\n",
    "        return None"
   ]
  },
  {
   "cell_type": "code",
   "execution_count": 110,
   "metadata": {},
   "outputs": [],
   "source": [
    "#determine if face1 is glued to face2 by the action of G\n",
    "#faces are given by a list vertex indices\n",
    "def faces_glued(face1,face2,G,vertices):\n",
    "    for g in G:\n",
    "        g_face1 = act_face(g,face1,vertices)\n",
    "        if g_face1 is not None and set(g_face1) == set(face2):\n",
    "            return True\n",
    "    return False"
   ]
  },
  {
   "cell_type": "code",
   "execution_count": 111,
   "metadata": {},
   "outputs": [],
   "source": [
    "#for two glued faces face1, face2, determine if the gluing map preserves orientation\n",
    "#if a gluing map g1 preserves orientation, then all do since g1*g2^(-1) is a self map and must be trivial\n",
    "def gluing_preserves_orientation(face1,face2,vertices):\n",
    "    S=SymmetricGroup(range(len(vertices))) #symmetric group on vertex indices\n",
    "    for g in G:\n",
    "        g_face1 = act_face(g,face1,vertices)\n",
    "        if g_face1 is not None and set(g_face1) == set(face2):\n",
    "            sigma_g=perm_from_sort(g_face1)\n",
    "            g_cycle=PermutationGroupElement(sigma_g,parent=S) #get permutation which orders g.v_{i_0}...g.v_{i_k}\n",
    "            return g_cycle.sign()\n",
    "    return None"
   ]
  },
  {
   "cell_type": "code",
   "execution_count": 112,
   "metadata": {},
   "outputs": [],
   "source": [
    "#determine if there is group element which glues face non-trivially to itself\n",
    "def trivial_self_gluing(face,G,vertices):\n",
    "    trivial = True\n",
    "    for g in G:\n",
    "        #act on vertices defining face\n",
    "        g_face = act_face(g,face,vertices)\n",
    "        if g_face is not None and set(g_face) == set(face):\n",
    "            #check if the gluing is non-trivial\n",
    "            if [g_face.index(i) for i in face] != [i for i in range(len(face))]:\n",
    "                trivial = False\n",
    "    return trivial"
   ]
  },
  {
   "cell_type": "code",
   "execution_count": 113,
   "metadata": {},
   "outputs": [],
   "source": [
    "#toss out any facets with non-trivial self-gluings such as [0,3,4] or [1,6]\n",
    "#build list of faces for each dim\n",
    "import itertools\n",
    "def faces(k): return [face for face in itertools.combinations(range(len(vertices)), k+1) if trivial_self_gluing(face,G,vertices)]"
   ]
  },
  {
   "cell_type": "code",
   "execution_count": 114,
   "metadata": {},
   "outputs": [],
   "source": [
    "#find classes of vertices which are glued\n",
    "def glued_faces(k):\n",
    "    glued_verts = []\n",
    "    for i in faces(k):\n",
    "        found = False\n",
    "        for equiv_class in glued_verts:\n",
    "            if len(equiv_class) >= 1:\n",
    "                if faces_glued(i,equiv_class[0],G,vertices):\n",
    "                    equiv_class.append(i)\n",
    "                    found=True\n",
    "        if not found:\n",
    "            glued_verts.append([i])\n",
    "    return glued_verts"
   ]
  },
  {
   "cell_type": "code",
   "execution_count": 115,
   "metadata": {},
   "outputs": [],
   "source": [
    "#compute boundary of each face. keep track of orientation\n",
    "def boundary(face,glued_faces,vertices):\n",
    "    dim = len(face)-1 #face/simplex dimension is number of vertices in face-1\n",
    "    boundary = [0]*len(glued_faces[dim-1]) #initialize vector to count occurence boundary faces\n",
    "    for i in range(len(face)):\n",
    "        face_remove_i = face[:i] + face[i+1:] #remove vertex at index i\n",
    "        sign = (-1)^i\n",
    "        #find representative to which face\\{i} is glued to\n",
    "        for glued_face in glued_faces[dim-1]:\n",
    "            face_rep = glued_face[0] #use first face in glued_face list as representative\n",
    "            face_index = None\n",
    "            if face_remove_i in glued_face: #check if face_remove_i is in gluing class\n",
    "                face_index = glued_faces[dim-1].index(glued_face) #get index of face in glued (k-1)-faces\n",
    "                orient_preserve = gluing_preserves_orientation(face_rep,face_remove_i,vertices) #determine if gluing map preserves orientation\n",
    "            if face_index is not None:\n",
    "                boundary[face_index] += orient_preserve*sign #add up using index\n",
    "    return boundary"
   ]
  },
  {
   "cell_type": "code",
   "execution_count": 116,
   "metadata": {},
   "outputs": [],
   "source": [
    "#compute the boundary map matrix over \\ZZ\n",
    "def boundary_map(k): return matrix(ZZ,[boundary(face[0],glued_face_list,vertices) for face in glued_face_list[k]]).transpose()"
   ]
  },
  {
   "cell_type": "code",
   "execution_count": 117,
   "metadata": {},
   "outputs": [],
   "source": [
    "#define a chain complex, optionally truncated at max_degree\n",
    "def chain_complex(max_degree=1): return ChainComplex({k:boundary_map(k) for k in range(1,max_degree+1)},degree=-1)"
   ]
  },
  {
   "cell_type": "code",
   "execution_count": 118,
   "metadata": {},
   "outputs": [],
   "source": [
    "#define the finite group\n",
    "G = PermutationGroup(embed_gens(n)) #symmetric group \\sigma_n as a subgroup of \\sigma_N, with 2 generators\n",
    "#G = MatrixGroup(matrix(QQ,[[0,0,0,1],[1,0,0,0],[0,1,0,0],[0,0,1,0]]))\n",
    "#G=SymmetricGroup(4)"
   ]
  },
  {
   "cell_type": "code",
   "execution_count": 131,
   "metadata": {},
   "outputs": [
    {
     "data": {
      "text/plain": [
       "A 6-dimensional polyhedron in QQ^6 defined as the convex hull of 1 vertex and 16 rays (use the .plot() method to plot)"
      ]
     },
     "execution_count": 131,
     "metadata": {},
     "output_type": "execute_result"
    }
   ],
   "source": [
    "#compute fundamental domain to get list of vertices\n",
    "F=fund_domain(group=G,center=[1,2,3,5,6,8]); F[1]"
   ]
  },
  {
   "cell_type": "code",
   "execution_count": 132,
   "metadata": {},
   "outputs": [
    {
     "data": {
      "text/plain": [
       "[(0, 0, 0, 1/3, 1/3, 1/3),\n",
       " (0, 0, 1/3, 0, 1/3, 1/3),\n",
       " (0, 0, 9/22, 25/66, 7/66, 7/66),\n",
       " (25/66, 0, 7/66, 0, 7/66, 9/22),\n",
       " (2/9, 0, 2/9, 2/9, 1/9, 2/9),\n",
       " (9/22, 0, 0, 7/66, 7/66, 25/66),\n",
       " (1/4, 0, 1/4, 1/4, 0, 1/4),\n",
       " (1/6, 1/6, 1/6, 1/6, 1/6, 1/6),\n",
       " (1/2, 0, 0, 0, 0, 1/2),\n",
       " (1/4, 1/4, 0, 0, 1/4, 1/4),\n",
       " (2/5, 0, 0, 0, 1/5, 2/5),\n",
       " (0, 0, 0, 0, 1/2, 1/2),\n",
       " (0, 2/5, 0, 0, 2/5, 1/5),\n",
       " (0, 0, 0, 0, 0, 1),\n",
       " (0, 2/9, 2/9, 2/9, 2/9, 1/9),\n",
       " (0, 0, 2/5, 2/5, 0, 1/5)]"
      ]
     },
     "execution_count": 132,
     "metadata": {},
     "output_type": "execute_result"
    }
   ],
   "source": [
    "#compute a cross section of the fundamental domain (sum of components is constant)\n",
    "F2=cross_section(F[1])\n",
    "[tuple(v) for v in F2.vertices()]"
   ]
  },
  {
   "cell_type": "code",
   "execution_count": 133,
   "metadata": {},
   "outputs": [
    {
     "data": {
      "text/plain": [
       "[(0, 0, 0, 0, 0, 1),\n",
       " (0, 0, 0, 0, 1/2, 1/2),\n",
       " (0, 0, 0, 1/3, 1/3, 1/3),\n",
       " (0, 0, 1/3, 0, 1/3, 1/3),\n",
       " (0, 0, 2/5, 2/5, 0, 1/5),\n",
       " (0, 0, 9/22, 25/66, 7/66, 7/66),\n",
       " (0, 2/9, 2/9, 2/9, 2/9, 1/9),\n",
       " (0, 2/5, 0, 0, 2/5, 1/5),\n",
       " (1/6, 1/6, 1/6, 1/6, 1/6, 1/6),\n",
       " (2/9, 0, 2/9, 2/9, 1/9, 2/9),\n",
       " (1/4, 0, 1/4, 1/4, 0, 1/4),\n",
       " (1/4, 1/4, 0, 0, 1/4, 1/4),\n",
       " (25/66, 0, 7/66, 0, 7/66, 9/22),\n",
       " (2/5, 0, 0, 0, 1/5, 2/5),\n",
       " (9/22, 0, 0, 7/66, 7/66, 25/66),\n",
       " (1/2, 0, 0, 0, 0, 1/2)]"
      ]
     },
     "execution_count": 133,
     "metadata": {},
     "output_type": "execute_result"
    }
   ],
   "source": [
    "vertices=fixed_verts(F2,QQ); vertices"
   ]
  },
  {
   "cell_type": "code",
   "execution_count": 134,
   "metadata": {},
   "outputs": [
    {
     "data": {
      "text/plain": [
       "[[(0,)],\n",
       " [(1,)],\n",
       " [(2,)],\n",
       " [(3,)],\n",
       " [(4,), (7,), (13,)],\n",
       " [(5,), (12,), (14,)],\n",
       " [(6,), (9,)],\n",
       " [(8,)],\n",
       " [(10,), (11,)],\n",
       " [(15,)]]"
      ]
     },
     "execution_count": 134,
     "metadata": {},
     "output_type": "execute_result"
    }
   ],
   "source": [
    "#compute glued 0-faces\n",
    "zero_faces=glued_faces(0); zero_faces"
   ]
  },
  {
   "cell_type": "code",
   "execution_count": 135,
   "metadata": {},
   "outputs": [
    {
     "data": {
      "text/plain": [
       "[[(0, 1)],\n",
       " [(0, 2)],\n",
       " [(0, 3)],\n",
       " [(0, 4), (0, 7)],\n",
       " [(0, 5)],\n",
       " [(0, 6)],\n",
       " [(0, 8)],\n",
       " [(0, 9)],\n",
       " [(0, 10), (0, 11)],\n",
       " [(0, 12)],\n",
       " [(0, 13)],\n",
       " [(0, 14)],\n",
       " [(0, 15)],\n",
       " [(1, 2)],\n",
       " [(1, 3)],\n",
       " [(1, 4)],\n",
       " [(1, 5)],\n",
       " [(1, 6), (1, 9)],\n",
       " [(1, 7), (1, 13)],\n",
       " [(1, 8)],\n",
       " [(1, 10)],\n",
       " [(1, 11)],\n",
       " [(1, 12)],\n",
       " [(1, 14)],\n",
       " [(1, 15)],\n",
       " [(2, 3)],\n",
       " [(2, 4), (2, 7), (2, 13)],\n",
       " [(2, 5), (2, 14)],\n",
       " [(2, 6), (2, 9)],\n",
       " [(2, 8)],\n",
       " [(2, 10), (2, 11)],\n",
       " [(2, 12)],\n",
       " [(2, 15)],\n",
       " [(3, 4), (3, 7), (3, 13)],\n",
       " [(3, 5), (3, 12)],\n",
       " [(3, 6), (3, 9)],\n",
       " [(3, 8)],\n",
       " [(3, 10), (3, 11)],\n",
       " [(3, 14)],\n",
       " [(3, 15)],\n",
       " [(4, 5), (12, 13), (13, 14)],\n",
       " [(4, 6), (6, 7), (9, 13)],\n",
       " [(4, 8), (7, 8), (8, 13)],\n",
       " [(4, 9)],\n",
       " [(4, 10), (7, 11), (11, 13)],\n",
       " [(4, 11), (7, 10)],\n",
       " [(4, 12), (7, 12)],\n",
       " [(4, 13)],\n",
       " [(4, 14), (7, 14)],\n",
       " [(4, 15), (7, 15)],\n",
       " [(5, 6), (5, 9), (9, 12), (9, 14)],\n",
       " [(5, 7), (5, 13)],\n",
       " [(5, 8), (8, 12), (8, 14)],\n",
       " [(5, 10), (10, 12), (10, 14), (11, 12), (11, 14)],\n",
       " [(5, 11)],\n",
       " [(5, 15)],\n",
       " [(6, 8), (8, 9)],\n",
       " [(6, 10), (6, 11), (9, 11)],\n",
       " [(6, 12)],\n",
       " [(6, 13), (7, 9)],\n",
       " [(6, 14)],\n",
       " [(6, 15)],\n",
       " [(8, 10), (8, 11)],\n",
       " [(8, 15)],\n",
       " [(9, 10)],\n",
       " [(9, 15)],\n",
       " [(10, 13)],\n",
       " [(10, 15), (11, 15)],\n",
       " [(12, 15), (14, 15)],\n",
       " [(13, 15)]]"
      ]
     },
     "execution_count": 135,
     "metadata": {},
     "output_type": "execute_result"
    }
   ],
   "source": [
    "#compute glued 1-faces\n",
    "one_faces=glued_faces(1); one_faces"
   ]
  },
  {
   "cell_type": "code",
   "execution_count": 136,
   "metadata": {},
   "outputs": [
    {
     "data": {
      "text/plain": [
       "[[(0, 1, 2)],\n",
       " [(0, 1, 3)],\n",
       " [(0, 1, 4)],\n",
       " [(0, 1, 5)],\n",
       " [(0, 1, 6)],\n",
       " [(0, 1, 7)],\n",
       " [(0, 1, 8)],\n",
       " [(0, 1, 9)],\n",
       " [(0, 1, 10)],\n",
       " [(0, 1, 11)],\n",
       " [(0, 1, 12)],\n",
       " [(0, 1, 13)],\n",
       " [(0, 1, 14)],\n",
       " [(0, 1, 15)],\n",
       " [(0, 2, 3)],\n",
       " [(0, 2, 4), (0, 2, 7)],\n",
       " [(0, 2, 5)],\n",
       " [(0, 2, 6)],\n",
       " [(0, 2, 8)],\n",
       " [(0, 2, 9)],\n",
       " [(0, 2, 10), (0, 2, 11)],\n",
       " [(0, 2, 12)],\n",
       " [(0, 2, 13)],\n",
       " [(0, 2, 14)],\n",
       " [(0, 2, 15)],\n",
       " [(0, 3, 4), (0, 3, 7)],\n",
       " [(0, 3, 5)],\n",
       " [(0, 3, 6)],\n",
       " [(0, 3, 8)],\n",
       " [(0, 3, 9)],\n",
       " [(0, 3, 10), (0, 3, 11)],\n",
       " [(0, 3, 12)],\n",
       " [(0, 3, 13)],\n",
       " [(0, 3, 14)],\n",
       " [(0, 3, 15)],\n",
       " [(0, 4, 5)],\n",
       " [(0, 4, 6), (0, 6, 7)],\n",
       " [(0, 4, 8), (0, 7, 8)],\n",
       " [(0, 4, 9)],\n",
       " [(0, 4, 10), (0, 7, 11)],\n",
       " [(0, 4, 11), (0, 7, 10)],\n",
       " [(0, 4, 12), (0, 7, 12)],\n",
       " [(0, 4, 13)],\n",
       " [(0, 4, 14), (0, 7, 14)],\n",
       " [(0, 4, 15), (0, 7, 15)],\n",
       " [(0, 5, 6)],\n",
       " [(0, 5, 7)],\n",
       " [(0, 5, 8)],\n",
       " [(0, 5, 9)],\n",
       " [(0, 5, 10)],\n",
       " [(0, 5, 11)],\n",
       " [(0, 5, 12)],\n",
       " [(0, 5, 13)],\n",
       " [(0, 5, 14)],\n",
       " [(0, 5, 15)],\n",
       " [(0, 6, 8)],\n",
       " [(0, 6, 9)],\n",
       " [(0, 6, 10), (0, 6, 11)],\n",
       " [(0, 6, 12)],\n",
       " [(0, 6, 13)],\n",
       " [(0, 6, 14)],\n",
       " [(0, 6, 15)],\n",
       " [(0, 7, 9)],\n",
       " [(0, 7, 13)],\n",
       " [(0, 8, 9)],\n",
       " [(0, 8, 10), (0, 8, 11)],\n",
       " [(0, 8, 12)],\n",
       " [(0, 8, 13)],\n",
       " [(0, 8, 14)],\n",
       " [(0, 8, 15)],\n",
       " [(0, 9, 10)],\n",
       " [(0, 9, 11)],\n",
       " [(0, 9, 12)],\n",
       " [(0, 9, 13)],\n",
       " [(0, 9, 14)],\n",
       " [(0, 9, 15)],\n",
       " [(0, 10, 12), (0, 11, 12)],\n",
       " [(0, 10, 13)],\n",
       " [(0, 10, 14), (0, 11, 14)],\n",
       " [(0, 10, 15), (0, 11, 15)],\n",
       " [(0, 11, 13)],\n",
       " [(0, 12, 13)],\n",
       " [(0, 12, 14)],\n",
       " [(0, 12, 15)],\n",
       " [(0, 13, 14)],\n",
       " [(0, 13, 15)],\n",
       " [(0, 14, 15)],\n",
       " [(1, 2, 3)],\n",
       " [(1, 2, 4)],\n",
       " [(1, 2, 5)],\n",
       " [(1, 2, 6), (1, 2, 9)],\n",
       " [(1, 2, 7), (1, 2, 13)],\n",
       " [(1, 2, 8)],\n",
       " [(1, 2, 10)],\n",
       " [(1, 2, 11)],\n",
       " [(1, 2, 12)],\n",
       " [(1, 2, 14)],\n",
       " [(1, 2, 15)],\n",
       " [(1, 3, 4)],\n",
       " [(1, 3, 5)],\n",
       " [(1, 3, 6), (1, 3, 9)],\n",
       " [(1, 3, 7), (1, 3, 13)],\n",
       " [(1, 3, 8)],\n",
       " [(1, 3, 10)],\n",
       " [(1, 3, 11)],\n",
       " [(1, 3, 12)],\n",
       " [(1, 3, 14)],\n",
       " [(1, 3, 15)],\n",
       " [(1, 4, 5)],\n",
       " [(1, 4, 6)],\n",
       " [(1, 4, 7)],\n",
       " [(1, 4, 8)],\n",
       " [(1, 4, 9)],\n",
       " [(1, 4, 10)],\n",
       " [(1, 4, 11)],\n",
       " [(1, 4, 12)],\n",
       " [(1, 4, 13)],\n",
       " [(1, 4, 14)],\n",
       " [(1, 4, 15)],\n",
       " [(1, 5, 6), (1, 5, 9)],\n",
       " [(1, 5, 7), (1, 5, 13)],\n",
       " [(1, 5, 8)],\n",
       " [(1, 5, 10)],\n",
       " [(1, 5, 11)],\n",
       " [(1, 5, 12)],\n",
       " [(1, 5, 14)],\n",
       " [(1, 5, 15)],\n",
       " [(1, 6, 7), (1, 9, 13)],\n",
       " [(1, 6, 8), (1, 8, 9)],\n",
       " [(1, 6, 10)],\n",
       " [(1, 6, 11), (1, 9, 11)],\n",
       " [(1, 6, 12)],\n",
       " [(1, 6, 13), (1, 7, 9)],\n",
       " [(1, 6, 14)],\n",
       " [(1, 6, 15)],\n",
       " [(1, 7, 8), (1, 8, 13)],\n",
       " [(1, 7, 10)],\n",
       " [(1, 7, 11), (1, 11, 13)],\n",
       " [(1, 7, 12)],\n",
       " [(1, 7, 14)],\n",
       " [(1, 7, 15)],\n",
       " [(1, 8, 10)],\n",
       " [(1, 8, 11)],\n",
       " [(1, 8, 12)],\n",
       " [(1, 8, 14)],\n",
       " [(1, 8, 15)],\n",
       " [(1, 9, 10)],\n",
       " [(1, 9, 12)],\n",
       " [(1, 9, 14)],\n",
       " [(1, 9, 15)],\n",
       " [(1, 10, 11)],\n",
       " [(1, 10, 12)],\n",
       " [(1, 10, 13)],\n",
       " [(1, 10, 14)],\n",
       " [(1, 10, 15)],\n",
       " [(1, 11, 12)],\n",
       " [(1, 11, 14)],\n",
       " [(1, 11, 15)],\n",
       " [(1, 12, 13)],\n",
       " [(1, 12, 14)],\n",
       " [(1, 12, 15)],\n",
       " [(1, 13, 14)],\n",
       " [(1, 13, 15)],\n",
       " [(1, 14, 15)],\n",
       " [(2, 3, 4)],\n",
       " [(2, 3, 5)],\n",
       " [(2, 3, 6), (2, 3, 9)],\n",
       " [(2, 3, 7), (2, 3, 13)],\n",
       " [(2, 3, 8)],\n",
       " [(2, 3, 10)],\n",
       " [(2, 3, 11)],\n",
       " [(2, 3, 12)],\n",
       " [(2, 3, 14)],\n",
       " [(2, 3, 15)],\n",
       " [(2, 4, 5), (2, 13, 14)],\n",
       " [(2, 4, 6), (2, 6, 7), (2, 9, 13)],\n",
       " [(2, 4, 8), (2, 7, 8), (2, 8, 13)],\n",
       " [(2, 4, 9)],\n",
       " [(2, 4, 10), (2, 7, 11), (2, 11, 13)],\n",
       " [(2, 4, 11), (2, 7, 10)],\n",
       " [(2, 4, 12)],\n",
       " [(2, 4, 13)],\n",
       " [(2, 4, 14), (2, 7, 14)],\n",
       " [(2, 4, 15), (2, 7, 15)],\n",
       " [(2, 5, 6), (2, 5, 9), (2, 9, 14)],\n",
       " [(2, 5, 7), (2, 5, 13)],\n",
       " [(2, 5, 8), (2, 8, 14)],\n",
       " [(2, 5, 10), (2, 10, 14), (2, 11, 14)],\n",
       " [(2, 5, 11)],\n",
       " [(2, 5, 12)],\n",
       " [(2, 5, 15)],\n",
       " [(2, 6, 8), (2, 8, 9)],\n",
       " [(2, 6, 10), (2, 6, 11), (2, 9, 11)],\n",
       " [(2, 6, 12)],\n",
       " [(2, 6, 13), (2, 7, 9)],\n",
       " [(2, 6, 14)],\n",
       " [(2, 6, 15)],\n",
       " [(2, 7, 12)],\n",
       " [(2, 8, 10), (2, 8, 11)],\n",
       " [(2, 8, 12)],\n",
       " [(2, 8, 15)],\n",
       " [(2, 9, 10)],\n",
       " [(2, 9, 12)],\n",
       " [(2, 9, 15)],\n",
       " [(2, 10, 12)],\n",
       " [(2, 10, 13)],\n",
       " [(2, 10, 15), (2, 11, 15)],\n",
       " [(2, 11, 12)],\n",
       " [(2, 12, 13)],\n",
       " [(2, 12, 14)],\n",
       " [(2, 12, 15)],\n",
       " [(2, 13, 15)],\n",
       " [(2, 14, 15)],\n",
       " [(3, 4, 5), (3, 12, 13)],\n",
       " [(3, 4, 6), (3, 6, 7), (3, 9, 13)],\n",
       " [(3, 4, 8), (3, 7, 8), (3, 8, 13)],\n",
       " [(3, 4, 9)],\n",
       " [(3, 4, 10), (3, 7, 11), (3, 11, 13)],\n",
       " [(3, 4, 11), (3, 7, 10)],\n",
       " [(3, 4, 12), (3, 7, 12)],\n",
       " [(3, 4, 13)],\n",
       " [(3, 4, 14)],\n",
       " [(3, 4, 15), (3, 7, 15)],\n",
       " [(3, 5, 6), (3, 5, 9), (3, 9, 12)],\n",
       " [(3, 5, 7), (3, 5, 13)],\n",
       " [(3, 5, 8), (3, 8, 12)],\n",
       " [(3, 5, 10), (3, 10, 12), (3, 11, 12)],\n",
       " [(3, 5, 11)],\n",
       " [(3, 5, 14)],\n",
       " [(3, 5, 15)],\n",
       " [(3, 6, 8), (3, 8, 9)],\n",
       " [(3, 6, 10), (3, 6, 11), (3, 9, 11)],\n",
       " [(3, 6, 12)],\n",
       " [(3, 6, 13), (3, 7, 9)],\n",
       " [(3, 6, 14)],\n",
       " [(3, 6, 15)],\n",
       " [(3, 7, 14)],\n",
       " [(3, 8, 10), (3, 8, 11)],\n",
       " [(3, 8, 14)],\n",
       " [(3, 8, 15)],\n",
       " [(3, 9, 10)],\n",
       " [(3, 9, 14)],\n",
       " [(3, 9, 15)],\n",
       " [(3, 10, 13)],\n",
       " [(3, 10, 14)],\n",
       " [(3, 10, 15), (3, 11, 15)],\n",
       " [(3, 11, 14)],\n",
       " [(3, 12, 14)],\n",
       " [(3, 12, 15)],\n",
       " [(3, 13, 14)],\n",
       " [(3, 13, 15)],\n",
       " [(3, 14, 15)],\n",
       " [(4, 5, 6), (9, 12, 13), (9, 13, 14)],\n",
       " [(4, 5, 7)],\n",
       " [(4, 5, 8), (8, 12, 13), (8, 13, 14)],\n",
       " [(4, 5, 9)],\n",
       " [(4, 5, 10), (11, 12, 13), (11, 13, 14)],\n",
       " [(4, 5, 11)],\n",
       " [(4, 5, 12)],\n",
       " [(4, 5, 13)],\n",
       " [(4, 5, 14)],\n",
       " [(4, 5, 15)],\n",
       " [(4, 6, 8), (6, 7, 8), (8, 9, 13)],\n",
       " [(4, 6, 9)],\n",
       " [(4, 6, 10), (6, 7, 11), (9, 11, 13)],\n",
       " [(4, 6, 11), (6, 7, 10)],\n",
       " [(4, 6, 12), (6, 7, 12)],\n",
       " [(4, 6, 13)],\n",
       " [(4, 6, 14), (6, 7, 14)],\n",
       " [(4, 6, 15), (6, 7, 15)],\n",
       " [(4, 7, 9)],\n",
       " [(4, 7, 10), (4, 7, 11)],\n",
       " [(4, 7, 13)],\n",
       " [(4, 8, 9)],\n",
       " [(4, 8, 10), (7, 8, 11), (8, 11, 13)],\n",
       " [(4, 8, 11), (7, 8, 10)],\n",
       " [(4, 8, 12), (7, 8, 12)],\n",
       " [(4, 8, 13)],\n",
       " [(4, 8, 14), (7, 8, 14)],\n",
       " [(4, 8, 15), (7, 8, 15)],\n",
       " [(4, 9, 10)],\n",
       " [(4, 9, 11)],\n",
       " [(4, 9, 12)],\n",
       " [(4, 9, 13)],\n",
       " [(4, 9, 14)],\n",
       " [(4, 9, 15)],\n",
       " [(4, 10, 11), (7, 10, 11)],\n",
       " [(4, 10, 12), (7, 11, 12)],\n",
       " [(4, 10, 13)],\n",
       " [(4, 10, 14), (7, 11, 14)],\n",
       " [(4, 10, 15), (7, 11, 15)],\n",
       " [(4, 11, 12), (7, 10, 12)],\n",
       " [(4, 11, 13)],\n",
       " [(4, 11, 14), (7, 10, 14)],\n",
       " [(4, 11, 15), (7, 10, 15)],\n",
       " [(4, 12, 13)],\n",
       " [(4, 12, 14)],\n",
       " [(4, 12, 15), (7, 12, 15)],\n",
       " [(4, 13, 14)],\n",
       " [(4, 13, 15)],\n",
       " [(4, 14, 15), (7, 14, 15)],\n",
       " [(5, 6, 7), (5, 9, 13)],\n",
       " [(5, 6, 8), (5, 8, 9), (8, 9, 12), (8, 9, 14)],\n",
       " [(5, 6, 10), (9, 11, 12), (9, 11, 14)],\n",
       " [(5, 6, 11), (5, 9, 11)],\n",
       " [(5, 6, 12)],\n",
       " [(5, 6, 13), (5, 7, 9)],\n",
       " [(5, 6, 14)],\n",
       " [(5, 6, 15)],\n",
       " [(5, 7, 8), (5, 8, 13)],\n",
       " [(5, 7, 10)],\n",
       " [(5, 7, 11), (5, 11, 13)],\n",
       " [(5, 7, 12)],\n",
       " [(5, 7, 14)],\n",
       " [(5, 7, 15)],\n",
       " [(5, 8, 10), (8, 10, 12), (8, 10, 14), (8, 11, 12), (8, 11, 14)],\n",
       " [(5, 8, 11)],\n",
       " [(5, 8, 15)],\n",
       " [(5, 9, 10), (9, 10, 12), (9, 10, 14)],\n",
       " [(5, 9, 15)],\n",
       " [(5, 10, 11)],\n",
       " [(5, 10, 13)],\n",
       " [(5, 10, 15)],\n",
       " [(5, 11, 12)],\n",
       " [(5, 11, 14)],\n",
       " [(5, 11, 15)],\n",
       " [(5, 12, 13)],\n",
       " [(5, 12, 14)],\n",
       " [(5, 12, 15)],\n",
       " [(5, 13, 14)],\n",
       " [(5, 13, 15)],\n",
       " [(5, 14, 15)],\n",
       " [(6, 7, 9), (6, 9, 13)],\n",
       " [(6, 7, 13), (7, 9, 13)],\n",
       " [(6, 8, 10), (6, 8, 11), (8, 9, 11)],\n",
       " [(6, 8, 12)],\n",
       " [(6, 8, 13), (7, 8, 9)],\n",
       " [(6, 8, 14)],\n",
       " [(6, 8, 15)],\n",
       " [(6, 9, 10)],\n",
       " [(6, 9, 12)],\n",
       " [(6, 9, 14)],\n",
       " [(6, 9, 15)],\n",
       " [(6, 10, 12), (6, 11, 12)],\n",
       " [(6, 10, 13)],\n",
       " [(6, 10, 14), (6, 11, 14)],\n",
       " [(6, 10, 15), (6, 11, 15)],\n",
       " [(6, 11, 13), (7, 9, 11)],\n",
       " [(6, 12, 13)],\n",
       " [(6, 12, 14)],\n",
       " [(6, 12, 15)],\n",
       " [(6, 13, 14)],\n",
       " [(6, 13, 15)],\n",
       " [(6, 14, 15)],\n",
       " [(7, 9, 10)],\n",
       " [(7, 9, 12)],\n",
       " [(7, 9, 14)],\n",
       " [(7, 9, 15)],\n",
       " [(7, 10, 13)],\n",
       " [(7, 12, 13)],\n",
       " [(7, 12, 14)],\n",
       " [(7, 13, 14)],\n",
       " [(7, 13, 15)],\n",
       " [(8, 9, 10)],\n",
       " [(8, 9, 15)],\n",
       " [(8, 10, 13)],\n",
       " [(8, 10, 15), (8, 11, 15)],\n",
       " [(8, 12, 15), (8, 14, 15)],\n",
       " [(8, 13, 15)],\n",
       " [(9, 10, 11)],\n",
       " [(9, 10, 13)],\n",
       " [(9, 10, 15)],\n",
       " [(9, 11, 15)],\n",
       " [(9, 12, 15), (9, 14, 15)],\n",
       " [(9, 13, 15)],\n",
       " [(10, 11, 13)],\n",
       " [(10, 12, 13), (10, 13, 14)],\n",
       " [(10, 12, 15), (10, 14, 15), (11, 12, 15), (11, 14, 15)],\n",
       " [(10, 13, 15)],\n",
       " [(11, 13, 15)],\n",
       " [(12, 13, 15), (13, 14, 15)]]"
      ]
     },
     "execution_count": 136,
     "metadata": {},
     "output_type": "execute_result"
    }
   ],
   "source": [
    "two_faces=glued_faces(2); two_faces"
   ]
  },
  {
   "cell_type": "code",
   "execution_count": 91,
   "metadata": {},
   "outputs": [
    {
     "data": {
      "text/plain": [
       "[[(0, 1, 2, 3)],\n",
       " [(0, 1, 2, 4)],\n",
       " [(0, 1, 2, 5)],\n",
       " [(0, 1, 2, 6)],\n",
       " [(0, 1, 2, 7)],\n",
       " [(0, 1, 2, 8)],\n",
       " [(0, 1, 2, 9)],\n",
       " [(0, 1, 2, 10)],\n",
       " [(0, 1, 3, 4)],\n",
       " [(0, 1, 3, 5)],\n",
       " [(0, 1, 3, 6)],\n",
       " [(0, 1, 3, 7)],\n",
       " [(0, 1, 3, 8)],\n",
       " [(0, 1, 3, 9)],\n",
       " [(0, 1, 3, 10)],\n",
       " [(0, 1, 4, 5)],\n",
       " [(0, 1, 4, 6)],\n",
       " [(0, 1, 4, 7)],\n",
       " [(0, 1, 4, 8)],\n",
       " [(0, 1, 4, 9)],\n",
       " [(0, 1, 4, 10)],\n",
       " [(0, 1, 5, 6)],\n",
       " [(0, 1, 5, 7)],\n",
       " [(0, 1, 5, 8)],\n",
       " [(0, 1, 5, 9)],\n",
       " [(0, 1, 5, 10)],\n",
       " [(0, 1, 6, 7)],\n",
       " [(0, 1, 6, 8)],\n",
       " [(0, 1, 6, 9)],\n",
       " [(0, 1, 6, 10)],\n",
       " [(0, 1, 7, 8)],\n",
       " [(0, 1, 7, 9)],\n",
       " [(0, 1, 7, 10)],\n",
       " [(0, 1, 8, 9)],\n",
       " [(0, 1, 8, 10)],\n",
       " [(0, 1, 9, 10)],\n",
       " [(0, 2, 3, 4)],\n",
       " [(0, 2, 3, 5)],\n",
       " [(0, 2, 3, 6)],\n",
       " [(0, 2, 3, 7)],\n",
       " [(0, 2, 3, 8)],\n",
       " [(0, 2, 3, 9)],\n",
       " [(0, 2, 3, 10)],\n",
       " [(0, 2, 4, 5), (0, 2, 5, 6)],\n",
       " [(0, 2, 4, 7), (0, 2, 6, 7)],\n",
       " [(0, 2, 4, 8), (0, 2, 6, 9)],\n",
       " [(0, 2, 4, 9), (0, 2, 6, 8)],\n",
       " [(0, 2, 4, 10), (0, 2, 6, 10)],\n",
       " [(0, 2, 5, 7)],\n",
       " [(0, 2, 5, 8), (0, 2, 5, 9)],\n",
       " [(0, 2, 5, 10)],\n",
       " [(0, 2, 7, 8), (0, 2, 7, 9)],\n",
       " [(0, 2, 7, 10)],\n",
       " [(0, 2, 8, 10), (0, 2, 9, 10)],\n",
       " [(0, 3, 4, 5), (0, 3, 5, 6)],\n",
       " [(0, 3, 4, 7), (0, 3, 6, 7)],\n",
       " [(0, 3, 4, 8), (0, 3, 6, 9)],\n",
       " [(0, 3, 4, 9), (0, 3, 6, 8)],\n",
       " [(0, 3, 4, 10), (0, 3, 6, 10)],\n",
       " [(0, 3, 5, 7)],\n",
       " [(0, 3, 5, 8), (0, 3, 5, 9)],\n",
       " [(0, 3, 5, 10)],\n",
       " [(0, 3, 7, 8), (0, 3, 7, 9)],\n",
       " [(0, 3, 7, 10)],\n",
       " [(0, 3, 8, 10), (0, 3, 9, 10)],\n",
       " [(0, 4, 5, 7), (0, 5, 6, 7)],\n",
       " [(0, 4, 5, 8), (0, 5, 6, 9)],\n",
       " [(0, 4, 5, 9), (0, 5, 6, 8)],\n",
       " [(0, 4, 5, 10), (0, 5, 6, 10)],\n",
       " [(0, 4, 6, 8), (0, 4, 6, 9)],\n",
       " [(0, 4, 7, 8), (0, 6, 7, 9)],\n",
       " [(0, 4, 7, 9), (0, 6, 7, 8)],\n",
       " [(0, 4, 7, 10), (0, 6, 7, 10)],\n",
       " [(0, 4, 8, 9), (0, 6, 8, 9)],\n",
       " [(0, 4, 8, 10), (0, 6, 9, 10)],\n",
       " [(0, 4, 9, 10), (0, 6, 8, 10)],\n",
       " [(0, 5, 7, 8), (0, 5, 7, 9)],\n",
       " [(0, 5, 7, 10)],\n",
       " [(0, 5, 8, 10), (0, 5, 9, 10)],\n",
       " [(0, 7, 8, 10), (0, 7, 9, 10)],\n",
       " [(1, 2, 3, 4)],\n",
       " [(1, 2, 3, 5), (1, 2, 3, 8)],\n",
       " [(1, 2, 3, 6), (1, 2, 3, 10)],\n",
       " [(1, 2, 3, 7)],\n",
       " [(1, 2, 3, 9)],\n",
       " [(1, 2, 4, 5), (1, 2, 4, 8)],\n",
       " [(1, 2, 4, 6), (1, 2, 4, 10)],\n",
       " [(1, 2, 4, 7)],\n",
       " [(1, 2, 4, 9)],\n",
       " [(1, 2, 5, 6), (1, 2, 8, 10)],\n",
       " [(1, 2, 5, 7), (1, 2, 7, 8)],\n",
       " [(1, 2, 5, 9), (1, 2, 8, 9)],\n",
       " [(1, 2, 5, 10), (1, 2, 6, 8)],\n",
       " [(1, 2, 6, 7), (1, 2, 7, 10)],\n",
       " [(1, 2, 6, 9), (1, 2, 9, 10)],\n",
       " [(1, 2, 7, 9)],\n",
       " [(1, 3, 4, 5), (1, 3, 4, 8)],\n",
       " [(1, 3, 4, 6), (1, 3, 4, 10)],\n",
       " [(1, 3, 4, 7)],\n",
       " [(1, 3, 4, 9)],\n",
       " [(1, 3, 5, 6), (1, 3, 8, 10)],\n",
       " [(1, 3, 5, 7), (1, 3, 7, 8)],\n",
       " [(1, 3, 5, 9), (1, 3, 8, 9)],\n",
       " [(1, 3, 5, 10), (1, 3, 6, 8)],\n",
       " [(1, 3, 6, 7), (1, 3, 7, 10)],\n",
       " [(1, 3, 6, 9), (1, 3, 9, 10)],\n",
       " [(1, 3, 7, 9)],\n",
       " [(1, 4, 5, 6), (1, 4, 8, 10)],\n",
       " [(1, 4, 5, 7), (1, 4, 7, 8)],\n",
       " [(1, 4, 5, 9), (1, 4, 8, 9)],\n",
       " [(1, 4, 5, 10), (1, 4, 6, 8)],\n",
       " [(1, 4, 6, 7), (1, 4, 7, 10)],\n",
       " [(1, 4, 6, 9), (1, 4, 9, 10)],\n",
       " [(1, 4, 7, 9)],\n",
       " [(1, 5, 6, 7), (1, 7, 8, 10)],\n",
       " [(1, 5, 6, 8), (1, 5, 8, 10)],\n",
       " [(1, 5, 6, 9), (1, 8, 9, 10)],\n",
       " [(1, 5, 6, 10), (1, 6, 8, 10)],\n",
       " [(1, 5, 7, 9), (1, 7, 8, 9)],\n",
       " [(1, 5, 7, 10), (1, 6, 7, 8)],\n",
       " [(1, 5, 9, 10), (1, 6, 8, 9)],\n",
       " [(1, 6, 7, 9), (1, 7, 9, 10)],\n",
       " [(2, 3, 4, 5), (2, 3, 4, 8)],\n",
       " [(2, 3, 4, 6), (2, 3, 4, 10)],\n",
       " [(2, 3, 4, 7)],\n",
       " [(2, 3, 4, 9)],\n",
       " [(2, 3, 5, 6), (2, 3, 8, 10)],\n",
       " [(2, 3, 5, 7), (2, 3, 7, 8)],\n",
       " [(2, 3, 5, 9), (2, 3, 8, 9)],\n",
       " [(2, 3, 5, 10), (2, 3, 6, 8)],\n",
       " [(2, 3, 6, 7), (2, 3, 7, 10)],\n",
       " [(2, 3, 6, 9), (2, 3, 9, 10)],\n",
       " [(2, 3, 7, 9)],\n",
       " [(2, 4, 5, 7),\n",
       "  (2, 4, 7, 8),\n",
       "  (2, 5, 6, 7),\n",
       "  (2, 6, 7, 9),\n",
       "  (2, 7, 8, 10),\n",
       "  (2, 7, 9, 10)],\n",
       " [(2, 4, 5, 9),\n",
       "  (2, 4, 8, 9),\n",
       "  (2, 5, 6, 8),\n",
       "  (2, 5, 8, 10),\n",
       "  (2, 5, 9, 10),\n",
       "  (2, 6, 8, 9)],\n",
       " [(2, 4, 5, 10),\n",
       "  (2, 4, 6, 8),\n",
       "  (2, 4, 6, 9),\n",
       "  (2, 4, 9, 10),\n",
       "  (2, 5, 6, 10),\n",
       "  (2, 6, 8, 10)],\n",
       " [(2, 4, 7, 9), (2, 5, 7, 10), (2, 6, 7, 8)],\n",
       " [(3, 4, 5, 7),\n",
       "  (3, 4, 7, 8),\n",
       "  (3, 5, 6, 7),\n",
       "  (3, 6, 7, 9),\n",
       "  (3, 7, 8, 10),\n",
       "  (3, 7, 9, 10)],\n",
       " [(3, 4, 5, 9),\n",
       "  (3, 4, 8, 9),\n",
       "  (3, 5, 6, 8),\n",
       "  (3, 5, 8, 10),\n",
       "  (3, 5, 9, 10),\n",
       "  (3, 6, 8, 9)],\n",
       " [(3, 4, 5, 10),\n",
       "  (3, 4, 6, 8),\n",
       "  (3, 4, 6, 9),\n",
       "  (3, 4, 9, 10),\n",
       "  (3, 5, 6, 10),\n",
       "  (3, 6, 8, 10)],\n",
       " [(3, 4, 7, 9), (3, 5, 7, 10), (3, 6, 7, 8)],\n",
       " [(4, 5, 6, 8),\n",
       "  (4, 5, 6, 9),\n",
       "  (4, 5, 8, 10),\n",
       "  (4, 8, 9, 10),\n",
       "  (5, 6, 9, 10),\n",
       "  (6, 8, 9, 10)],\n",
       " [(4, 5, 7, 9),\n",
       "  (4, 7, 8, 9),\n",
       "  (5, 6, 7, 8),\n",
       "  (5, 7, 8, 10),\n",
       "  (5, 7, 9, 10),\n",
       "  (6, 7, 8, 9)],\n",
       " [(4, 5, 7, 10),\n",
       "  (4, 6, 7, 8),\n",
       "  (4, 6, 7, 9),\n",
       "  (4, 7, 9, 10),\n",
       "  (5, 6, 7, 10),\n",
       "  (6, 7, 8, 10)]]"
      ]
     },
     "execution_count": 91,
     "metadata": {},
     "output_type": "execute_result"
    }
   ],
   "source": [
    "three_faces=glued_faces(3); three_faces"
   ]
  },
  {
   "cell_type": "code",
   "execution_count": 141,
   "metadata": {},
   "outputs": [],
   "source": [
    "glued_face_list=[zero_faces,one_faces,two_faces]"
   ]
  },
  {
   "cell_type": "code",
   "execution_count": 138,
   "metadata": {},
   "outputs": [
    {
     "data": {
      "text/plain": [
       "10 x 70 dense matrix over Integer Ring (use the '.str()' method to see the entries)"
      ]
     },
     "execution_count": 138,
     "metadata": {},
     "output_type": "execute_result"
    }
   ],
   "source": [
    "d1=boundary_map(1); d1"
   ]
  },
  {
   "cell_type": "code",
   "execution_count": 139,
   "metadata": {},
   "outputs": [
    {
     "data": {
      "text/plain": [
       "70 x 381 dense matrix over Integer Ring (use the '.str()' method to see the entries)"
      ]
     },
     "execution_count": 139,
     "metadata": {},
     "output_type": "execute_result"
    }
   ],
   "source": [
    "d2=boundary_map(2); d2"
   ]
  },
  {
   "cell_type": "code",
   "execution_count": 140,
   "metadata": {},
   "outputs": [
    {
     "ename": "IndexError",
     "evalue": "list index out of range",
     "output_type": "error",
     "traceback": [
      "\u001b[0;31m---------------------------------------------------------------------------\u001b[0m",
      "\u001b[0;31mIndexError\u001b[0m                                Traceback (most recent call last)",
      "\u001b[0;32m<ipython-input-140-b93a2ab4f2d9>\u001b[0m in \u001b[0;36m<module>\u001b[0;34m\u001b[0m\n\u001b[0;32m----> 1\u001b[0;31m \u001b[0md3\u001b[0m\u001b[0;34m=\u001b[0m\u001b[0mboundary_map\u001b[0m\u001b[0;34m(\u001b[0m\u001b[0mInteger\u001b[0m\u001b[0;34m(\u001b[0m\u001b[0;36m3\u001b[0m\u001b[0;34m)\u001b[0m\u001b[0;34m)\u001b[0m\u001b[0;34m;\u001b[0m \u001b[0md3\u001b[0m\u001b[0;34m\u001b[0m\u001b[0;34m\u001b[0m\u001b[0m\n\u001b[0m",
      "\u001b[0;32m<ipython-input-116-b73c3d6a342d>\u001b[0m in \u001b[0;36mboundary_map\u001b[0;34m(k)\u001b[0m\n\u001b[1;32m      1\u001b[0m \u001b[0;31m#compute the boundary map matrix over \\ZZ\u001b[0m\u001b[0;34m\u001b[0m\u001b[0;34m\u001b[0m\u001b[0;34m\u001b[0m\u001b[0m\n\u001b[0;32m----> 2\u001b[0;31m \u001b[0;32mdef\u001b[0m \u001b[0mboundary_map\u001b[0m\u001b[0;34m(\u001b[0m\u001b[0mk\u001b[0m\u001b[0;34m)\u001b[0m\u001b[0;34m:\u001b[0m \u001b[0;32mreturn\u001b[0m \u001b[0mmatrix\u001b[0m\u001b[0;34m(\u001b[0m\u001b[0mZZ\u001b[0m\u001b[0;34m,\u001b[0m\u001b[0;34m[\u001b[0m\u001b[0mboundary\u001b[0m\u001b[0;34m(\u001b[0m\u001b[0mface\u001b[0m\u001b[0;34m[\u001b[0m\u001b[0mInteger\u001b[0m\u001b[0;34m(\u001b[0m\u001b[0;36m0\u001b[0m\u001b[0;34m)\u001b[0m\u001b[0;34m]\u001b[0m\u001b[0;34m,\u001b[0m\u001b[0mglued_face_list\u001b[0m\u001b[0;34m,\u001b[0m\u001b[0mvertices\u001b[0m\u001b[0;34m)\u001b[0m \u001b[0;32mfor\u001b[0m \u001b[0mface\u001b[0m \u001b[0;32min\u001b[0m \u001b[0mglued_face_list\u001b[0m\u001b[0;34m[\u001b[0m\u001b[0mk\u001b[0m\u001b[0;34m]\u001b[0m\u001b[0;34m]\u001b[0m\u001b[0;34m)\u001b[0m\u001b[0;34m.\u001b[0m\u001b[0mtranspose\u001b[0m\u001b[0;34m(\u001b[0m\u001b[0;34m)\u001b[0m\u001b[0;34m\u001b[0m\u001b[0;34m\u001b[0m\u001b[0m\n\u001b[0m",
      "\u001b[0;31mIndexError\u001b[0m: list index out of range"
     ]
    }
   ],
   "source": [
    "d3=boundary_map(3); d3"
   ]
  },
  {
   "cell_type": "code",
   "execution_count": 142,
   "metadata": {},
   "outputs": [],
   "source": [
    "cc = chain_complex(max_degree=2)"
   ]
  },
  {
   "cell_type": "code",
   "execution_count": 143,
   "metadata": {},
   "outputs": [
    {
     "data": {
      "text/plain": [
       "{0: Z, 1: 0, 2: Z^320}"
      ]
     },
     "execution_count": 143,
     "metadata": {},
     "output_type": "execute_result"
    }
   ],
   "source": [
    "cc.homology()"
   ]
  },
  {
   "cell_type": "code",
   "execution_count": 144,
   "metadata": {},
   "outputs": [
    {
     "data": {
      "text/plain": [
       "[10, 70, 381]"
      ]
     },
     "execution_count": 144,
     "metadata": {},
     "output_type": "execute_result"
    }
   ],
   "source": [
    "list(map(lambda x: len(x), glued_face_list))"
   ]
  },
  {
   "cell_type": "code",
   "execution_count": null,
   "metadata": {},
   "outputs": [],
   "source": []
  }
 ],
 "metadata": {
  "interpreter": {
   "hash": "31f2aee4e71d21fbe5cf8b01ff0e069b9275f58929596ceb00d14d90e3e16cd6"
  },
  "kernelspec": {
   "display_name": "SageMath 9.6",
   "language": "sage",
   "name": "sagemath-9.6"
  },
  "language_info": {
   "codemirror_mode": {
    "name": "ipython",
    "version": 3
   },
   "file_extension": ".py",
   "mimetype": "text/x-python",
   "name": "python",
   "nbconvert_exporter": "python",
   "pygments_lexer": "ipython3",
   "version": "3.10.3"
  }
 },
 "nbformat": 4,
 "nbformat_minor": 4
}
