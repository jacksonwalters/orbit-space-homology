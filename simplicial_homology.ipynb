{
 "cells": [
  {
   "cell_type": "code",
   "execution_count": 8,
   "metadata": {},
   "outputs": [],
   "source": [
    "#list of unordered pairs of elements in {1,...,n}\n",
    "def pairs(n): return flatten([[[i+1,j+1] for j in range(i+1,n)] for i in range(n-1)],max_level=1)\n",
    "\n",
    "#sigma acts on an unordered pair\n",
    "def act(sigma, p): return sorted([sigma(p[0]),sigma(p[1])])\n",
    "\n",
    "#sigma acts as matrix in basis B on a vector v\n",
    "def act_vect(sig,v,B=identity_matrix(N)): return (B.inverse()*sig.matrix()*B)*v\n",
    "\n",
    "#permutation in Sigma_N which induced from perm in Sigma_n\n",
    "def embed(sigma,n): return perm_from_sort([act(sigma,p) for p in pairs(n)])\n",
    "\n",
    "#find permutation which orders a list L\t\n",
    "def perm_from_sort(L): return Permutation([pair[0] for pair in sorted(enumerate(L, 1), key=lambda x: x[1])]).to_cycles()\n",
    "\n",
    "#image of generators of Sigma_n under embedding into Sigma_N\n",
    "def embed_gens(n): return [embed(gen,n) for gen in SymmetricGroup(n).gens()]"
   ]
  },
  {
   "cell_type": "code",
   "execution_count": 9,
   "metadata": {},
   "outputs": [],
   "source": [
    "#fundamental domain given arbitrary distinct vector l and basis B\n",
    "def fund_domain(center=[i for i in range(N)],basis=identity_matrix(N),br=QQ,group=MatrixGroup(identity_matrix(N))):\n",
    "\n",
    "    #augmented matrix for half-plane ineqs\n",
    "    A = [ [center[j] - act_vect(group[i],vector(center),basis)[j] for j in range(N)] for i in range(group.order())]\n",
    "    b_1 = group.order()*[0]\n",
    "    bA = matrix(br,b_1).transpose().augment(matrix(br,A))\n",
    "\n",
    "    #augmented matrix for positivity ineqs\n",
    "    pos = basis.inverse().transpose()\n",
    "    b_2 = [0 for i in range(N)]\n",
    "    bPos = matrix(br,b_2).transpose().augment(pos)\n",
    "\n",
    "    #augmented matrix for fund. domain\n",
    "    aug_l = bA.stack(bPos)\n",
    "    \n",
    "    #find convex polyhedral region, i.e. intersection of all ineqs\n",
    "    poly = Polyhedron(ieqs=aug_l,base_ring=br)\n",
    "\n",
    "    return([aug_l,poly])"
   ]
  },
  {
   "cell_type": "code",
   "execution_count": 10,
   "metadata": {},
   "outputs": [],
   "source": [
    "#slice the fundamental domain with the plane x_1 + ... + x_N = 1\n",
    "def cross_section(region,slice_dir=[1 for i in range(N)],chi=1,br=None):\n",
    "    if br==None: br=region.base_ring()\n",
    "    return Polyhedron(ieqs=region.inequalities(),eqns=[[-1]+slice_dir],base_ring=br)"
   ]
  },
  {
   "cell_type": "code",
   "execution_count": 20,
   "metadata": {},
   "outputs": [],
   "source": [
    "#find fixed points under G in polyhedron F to include as new vertices\n",
    "#find intersection of fixed point subspace with F as polyhedron, and return those vertices\n",
    "def fixed_verts(F,br=QQ):\n",
    "    new_verts=set()\n",
    "    for g in G:\n",
    "        #get equations for fixed point subspace\n",
    "        A=g.matrix() #matrix associated to group element g\n",
    "        B=A-identity_matrix(N) #eqns defining fixed pt subspace are (A-Id)x == 0\n",
    "        b = N*[0] #0 vector\n",
    "        bB = matrix(br,b).transpose().augment(matrix(br,B))#form augmented matrix for equations defining subspace\n",
    "        #get equations for intersection\n",
    "        eqns=matrix(br,[list(eq) for eq in F.equations()]) #list of equations defining F\n",
    "        eqns=eqns.stack(bB) #augmented matrix including fixed point subspace equations\n",
    "        #get list of inequalities for fundamental domain as convex polyhedron\n",
    "        ieqs=matrix(br,[list(ieq) for ieq in F.inequalities()])\n",
    "        #form intersection of fund_domain with fixed point subspace\n",
    "        intersection_F_fixed_pt_subspace=Polyhedron(ieqs=ieqs,eqns=eqns)\n",
    "        verts=intersection_F_fixed_pt_subspace.vertices()\n",
    "        for vert in verts:\n",
    "            new_verts.add(tuple(vert))\n",
    "    return list(new_verts)"
   ]
  },
  {
   "cell_type": "code",
   "execution_count": 12,
   "metadata": {},
   "outputs": [],
   "source": [
    "#define the finite group\n",
    "n = 4\n",
    "N=binomial(n,2)\n",
    "G = PermutationGroup(embed_gens(n)) #symmetric group \\sigma_n as a subgroup of \\sigma_N, with 2 generators"
   ]
  },
  {
   "cell_type": "code",
   "execution_count": 13,
   "metadata": {},
   "outputs": [
    {
     "data": {
      "text/plain": [
       "(A vertex at (1/2, 0, 0, 0, 0, 1/2),\n",
       " A vertex at (0, 1/2, 0, 0, 1/2, 0),\n",
       " A vertex at (0, 0, 0, 0, 1/2, 1/2),\n",
       " A vertex at (0, 0, 0, 1/3, 1/3, 1/3),\n",
       " A vertex at (0, 0, 1/2, 1/2, 0, 0),\n",
       " A vertex at (0, 0, 1/3, 0, 1/3, 1/3),\n",
       " A vertex at (0, 0, 0, 0, 0, 1))"
      ]
     },
     "execution_count": 13,
     "metadata": {},
     "output_type": "execute_result"
    }
   ],
   "source": [
    "#compute fundamental domain to get list of vertices\n",
    "F=fund_domain(group=G)\n",
    "F2=cross_section(F[1]); F2.vertices()"
   ]
  },
  {
   "cell_type": "code",
   "execution_count": 205,
   "metadata": {},
   "outputs": [
    {
     "data": {
      "text/plain": [
       "[(0, 1/4, 1/4, 1/4, 1/4, 0),\n",
       " (1/2, 0, 0, 0, 0, 1/2),\n",
       " (0, 0, 1/3, 0, 1/3, 1/3),\n",
       " (1/4, 0, 1/4, 1/4, 0, 1/4),\n",
       " (1/4, 1/4, 0, 0, 1/4, 1/4),\n",
       " (0, 0, 0, 1/3, 1/3, 1/3),\n",
       " (0, 0, 1/2, 1/2, 0, 0),\n",
       " (0, 0, 0, 0, 0, 1),\n",
       " (1/6, 1/6, 1/6, 1/6, 1/6, 1/6),\n",
       " (0, 0, 0, 0, 1/2, 1/2),\n",
       " (0, 1/2, 0, 0, 1/2, 0)]"
      ]
     },
     "execution_count": 205,
     "metadata": {},
     "output_type": "execute_result"
    }
   ],
   "source": [
    "vertices=fixed_verts(F2,QQ); vertices"
   ]
  },
  {
   "cell_type": "code",
   "execution_count": 45,
   "metadata": {},
   "outputs": [],
   "source": [
    "#sigma acts as matrix in basis B on a vector v\n",
    "def act(g,v,basis=identity_matrix(N)): return (basis.inverse()*g.matrix()*basis)*vector(v)"
   ]
  },
  {
   "cell_type": "code",
   "execution_count": 115,
   "metadata": {},
   "outputs": [],
   "source": [
    "#check if two faces (defined by a set of vertex indices) are glued by checking if there\n",
    "#exists g in G that maps one vertex set to the other\n",
    "def vertices_glued(i,j,G,vertices):\n",
    "    for g in G:\n",
    "        g_vi = act(g,vertices[i])\n",
    "        if g_vi == vector(vertices[j]):\n",
    "            return True\n",
    "    return False"
   ]
  },
  {
   "cell_type": "code",
   "execution_count": 127,
   "metadata": {},
   "outputs": [],
   "source": [
    "#find classes of vertices which are glued\n",
    "glued_verts = []\n",
    "for i in range(len(vertices)):\n",
    "    found = False\n",
    "    for equiv_class in glued_verts:\n",
    "        if len(equiv_class) >= 1:\n",
    "            if vertices_glued(i,equiv_class[0],G,vertices):\n",
    "                equiv_class.append(i)\n",
    "                found=True\n",
    "    if not found:\n",
    "        glued_verts.append([i])"
   ]
  },
  {
   "cell_type": "code",
   "execution_count": 126,
   "metadata": {},
   "outputs": [
    {
     "data": {
      "text/plain": [
       "[[0, 3, 4], [1, 6, 10], [2], [5], [7], [8], [9]]"
      ]
     },
     "execution_count": 126,
     "metadata": {},
     "output_type": "execute_result"
    }
   ],
   "source": [
    "glued_verts"
   ]
  },
  {
   "cell_type": "code",
   "execution_count": 338,
   "metadata": {},
   "outputs": [],
   "source": [
    "def faces_glued(face1,face2,G,vertices):\n",
    "    for g in G:\n",
    "        g_face1 = {vertices.index(tuple(act(g,vertices[i]))) if tuple(act(g,vertices[i])) in vertices else i for i in face1}\n",
    "        if set(g_face1) == set(face2):\n",
    "            return True\n",
    "    return False"
   ]
  },
  {
   "cell_type": "code",
   "execution_count": 319,
   "metadata": {},
   "outputs": [],
   "source": [
    "def gluing_elmts(face1,face2,G,vertices):\n",
    "    elmts = []\n",
    "    trivial = True\n",
    "    for g in G:\n",
    "        #act on vertices defining face\n",
    "        g_face1 = [vertices.index(tuple(act(g,vertices[i]))) if tuple(act(g,vertices[i])) in vertices else i for i in face1]\n",
    "        #if vertex sets match, add element to list\n",
    "        if set(g_face1) == set(face2):\n",
    "            elmts.append(g)\n",
    "            #check if the gluing is non-trivial\n",
    "            if [g_face1.index(i) for i in face1] != [i for i in range(len(face1))]:\n",
    "                trivial = False\n",
    "    return (elmts,trivial)"
   ]
  },
  {
   "cell_type": "code",
   "execution_count": 333,
   "metadata": {},
   "outputs": [
    {
     "name": "stdout",
     "output_type": "stream",
     "text": [
      "[(0, 1), (0, 2), (0, 5), (0, 6), (0, 7), (0, 8), (0, 9), (0, 10), (1, 2), (1, 3), (1, 4), (1, 5), (1, 7), (1, 8), (1, 9), (2, 3), (2, 4), (2, 5), (2, 6), (2, 7), (2, 8), (2, 9), (2, 10), (3, 5), (3, 6), (3, 7), (3, 8), (3, 9), (3, 10), (4, 5), (4, 6), (4, 7), (4, 8), (4, 9), (4, 10), (5, 6), (5, 7), (5, 8), (5, 9), (5, 10), (6, 7), (6, 8), (6, 9), (7, 8), (7, 9), (7, 10), (8, 9), (8, 10), (9, 10)]\n"
     ]
    }
   ],
   "source": [
    "#toss out any facets with non-trivial self-gluings such as [0,3,4] or [1,6]\n",
    "#build list of faces for each dim\n",
    "import itertools\n",
    "one_faces=[result for result in itertools.combinations(range(len(vertices)), 2) if gluing_elmts(result,result,G,vertices)[1]]\n",
    "print(one_faces)"
   ]
  },
  {
   "cell_type": "code",
   "execution_count": 395,
   "metadata": {},
   "outputs": [],
   "source": [
    "#compute boundary of each face\n",
    "#replace vertices with glued_verts, keep track of orientation\n",
    "def face_boundary(face):\n",
    "    boundary = []\n",
    "    for i in face:\n",
    "        face_remove_i = list(face)\n",
    "        face_remove_i.remove(i)\n",
    "        boundary.append(face_remove_i)\n",
    "    return boundary"
   ]
  },
  {
   "cell_type": "code",
   "execution_count": null,
   "metadata": {},
   "outputs": [],
   "source": []
  }
 ],
 "metadata": {
  "kernelspec": {
   "display_name": "SageMath 9.2",
   "language": "sage",
   "name": "sagemath"
  },
  "language_info": {
   "codemirror_mode": {
    "name": "ipython",
    "version": 3
   },
   "file_extension": ".py",
   "mimetype": "text/x-python",
   "name": "python",
   "nbconvert_exporter": "python",
   "pygments_lexer": "ipython3",
   "version": "3.7.7"
  }
 },
 "nbformat": 4,
 "nbformat_minor": 4
}
