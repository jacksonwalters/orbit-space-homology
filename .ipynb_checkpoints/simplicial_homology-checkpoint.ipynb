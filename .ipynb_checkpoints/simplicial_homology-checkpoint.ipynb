{
 "cells": [
  {
   "cell_type": "code",
   "execution_count": 1,
   "metadata": {},
   "outputs": [],
   "source": [
    "n = 4\n",
    "#N=binomial(n,2)\n",
    "N=4"
   ]
  },
  {
   "cell_type": "code",
   "execution_count": 2,
   "metadata": {},
   "outputs": [],
   "source": [
    "#list of unordered pairs of elements in {1,...,n}\n",
    "def pairs(n): return flatten([[[i+1,j+1] for j in range(i+1,n)] for i in range(n-1)],max_level=1)\n",
    "\n",
    "#sigma acts on an unordered pair\n",
    "def act(sigma, p): return sorted([sigma(p[0]),sigma(p[1])])\n",
    "\n",
    "#sigma acts as matrix in basis on a vector v\n",
    "def act_vect(g,v,basis=identity_matrix(N)): return (basis.inverse()*g.matrix()*basis)*vector(v)\n",
    "\n",
    "#permutation in Sigma_N which induced from perm in Sigma_n\n",
    "def embed(sigma,n): return perm_from_sort([act(sigma,p) for p in pairs(n)])\n",
    "\n",
    "#find permutation which orders a list L\t\n",
    "def perm_from_sort(L): return Permutation([pair[0] for pair in sorted(enumerate(L, 1), key=lambda x: x[1])]).to_cycles()\n",
    "\n",
    "#image of generators of Sigma_n under embedding into Sigma_N\n",
    "def embed_gens(n): return [embed(gen,n) for gen in SymmetricGroup(n).gens()]"
   ]
  },
  {
   "cell_type": "code",
   "execution_count": 3,
   "metadata": {},
   "outputs": [],
   "source": [
    "#fundamental domain given arbitrary distinct vector l and basis B\n",
    "def fund_domain(center=[i for i in range(N)],basis=identity_matrix(N),br=QQ,group=MatrixGroup(identity_matrix(N))):\n",
    "\n",
    "    #augmented matrix for half-plane ineqs\n",
    "    A = [ [center[j] - act_vect(group[i],vector(center),basis)[j] for j in range(N)] for i in range(group.order())]\n",
    "    b_1 = group.order()*[0]\n",
    "    bA = matrix(br,b_1).transpose().augment(matrix(br,A))\n",
    "\n",
    "    #augmented matrix for positivity ineqs\n",
    "    pos = basis.inverse().transpose()\n",
    "    b_2 = [0 for i in range(N)]\n",
    "    bPos = matrix(br,b_2).transpose().augment(pos)\n",
    "\n",
    "    #augmented matrix for fund. domain\n",
    "    aug_l = bA.stack(bPos)\n",
    "    \n",
    "    #find convex polyhedral region, i.e. intersection of all ineqs\n",
    "    poly = Polyhedron(ieqs=aug_l,base_ring=br)\n",
    "\n",
    "    return([aug_l,poly])"
   ]
  },
  {
   "cell_type": "code",
   "execution_count": 4,
   "metadata": {},
   "outputs": [],
   "source": [
    "#slice the fundamental domain with the plane x_1 + ... + x_N = 1\n",
    "def cross_section(region,slice_dir=[1 for i in range(N)],chi=1,br=None):\n",
    "    if br is None: br=region.base_ring()\n",
    "    return Polyhedron(ieqs=region.inequalities(),eqns=[[-1]+slice_dir],base_ring=br)"
   ]
  },
  {
   "cell_type": "code",
   "execution_count": 5,
   "metadata": {},
   "outputs": [],
   "source": [
    "#find fixed points under G in polyhedron F to include as new vertices\n",
    "#find intersection of fixed point subspace with F as polyhedron, and return those vertices\n",
    "def fixed_verts(F,br=QQ):\n",
    "    new_verts=set()\n",
    "    for g in G:\n",
    "        #get equations for fixed point subspace\n",
    "        A=g.matrix() #matrix associated to group element g\n",
    "        B=A-identity_matrix(N) #eqns defining fixed pt subspace are (A-Id)x == 0\n",
    "        b = N*[0] #0 vector\n",
    "        bB = matrix(br,b).transpose().augment(matrix(br,B))#form augmented matrix for equations defining subspace\n",
    "        #get equations for intersection\n",
    "        eqns=matrix(br,[list(eq) for eq in F.equations()]) #list of equations defining F\n",
    "        eqns=eqns.stack(bB) #augmented matrix including fixed point subspace equations\n",
    "        #get list of inequalities for fundamental domain as convex polyhedron\n",
    "        ieqs=matrix(br,[list(ieq) for ieq in F.inequalities()])\n",
    "        #form intersection of fund_domain with fixed point subspace\n",
    "        intersection_F_fixed_pt_subspace=Polyhedron(ieqs=ieqs,eqns=eqns)\n",
    "        verts=intersection_F_fixed_pt_subspace.vertices()\n",
    "        for vert in verts:\n",
    "            new_verts.add(tuple(vert))\n",
    "    return sorted(list(new_verts))"
   ]
  },
  {
   "cell_type": "code",
   "execution_count": 44,
   "metadata": {},
   "outputs": [],
   "source": [
    "#define the finite group\n",
    "#G = PermutationGroup(embed_gens(n)) #symmetric group \\sigma_n as a subgroup of \\sigma_N, with 2 generators\n",
    "#G = MatrixGroup(matrix(QQ,[[0,0,0,1],[1,0,0,0],[0,1,0,0],[0,0,1,0]]))\n",
    "G=SymmetricGroup(4)"
   ]
  },
  {
   "cell_type": "code",
   "execution_count": 45,
   "metadata": {},
   "outputs": [
    {
     "data": {
      "text/plain": [
       "A 4-dimensional polyhedron in QQ^4 defined as the convex hull of 1 vertex and 4 rays (use the .plot() method to plot)"
      ]
     },
     "execution_count": 45,
     "metadata": {},
     "output_type": "execute_result"
    }
   ],
   "source": [
    "#compute fundamental domain to get list of vertices\n",
    "F=fund_domain(group=G); F[1]"
   ]
  },
  {
   "cell_type": "code",
   "execution_count": 46,
   "metadata": {},
   "outputs": [
    {
     "data": {
      "text/plain": [
       "[(1/4, 1/4, 1/4, 1/4), (0, 0, 0, 1), (0, 1/3, 1/3, 1/3), (0, 0, 1/2, 1/2)]"
      ]
     },
     "execution_count": 46,
     "metadata": {},
     "output_type": "execute_result"
    }
   ],
   "source": [
    "F2=cross_section(F[1])\n",
    "[tuple(v) for v in F2.vertices()]"
   ]
  },
  {
   "cell_type": "code",
   "execution_count": 47,
   "metadata": {},
   "outputs": [
    {
     "data": {
      "text/plain": [
       "[(0, 0, 0, 1), (0, 0, 1/2, 1/2), (0, 1/3, 1/3, 1/3), (1/4, 1/4, 1/4, 1/4)]"
      ]
     },
     "execution_count": 47,
     "metadata": {},
     "output_type": "execute_result"
    }
   ],
   "source": [
    "vertices=fixed_verts(F2,QQ); vertices"
   ]
  },
  {
   "cell_type": "code",
   "execution_count": 48,
   "metadata": {},
   "outputs": [],
   "source": [
    "#action of group element g on a face\n",
    "#if g.face is not in fund_domain defined by vertex list, return None\n",
    "def act_face(g,face,vertices):\n",
    "    try:\n",
    "        return [vertices.index(tuple(act_vect(g,vertices[i]))) for i in face]\n",
    "    except ValueError:\n",
    "        return None"
   ]
  },
  {
   "cell_type": "code",
   "execution_count": 49,
   "metadata": {},
   "outputs": [],
   "source": [
    "#determine if face1 is glued to face2 by the action of G\n",
    "#faces are given by a list vertex indices\n",
    "def faces_glued(face1,face2,G,vertices):\n",
    "    for g in G:\n",
    "        g_face1 = act_face(g,face1,vertices)\n",
    "        if g_face1 is not None and set(g_face1) == set(face2):\n",
    "            return True\n",
    "    return False"
   ]
  },
  {
   "cell_type": "code",
   "execution_count": 50,
   "metadata": {},
   "outputs": [],
   "source": [
    "#for two glued faces face1, face2, determine if the gluing map preserves orientation\n",
    "#if a gluing map g1 preserves orientation, then all do since g1*g2^(-1) is a self map and must be trivial\n",
    "def gluing_preserves_orientation(face1,face2,vertices):\n",
    "    S=SymmetricGroup(range(len(vertices))) #symmetric group on vertex indices\n",
    "    for g in G:\n",
    "        g_face1 = act_face(g,face1,vertices)\n",
    "        if g_face1 is not None and set(g_face1) == set(face2):\n",
    "            sigma_g=perm_from_sort(g_face1)\n",
    "            g_cycle=PermutationGroupElement(sigma_g,parent=S) #get permutation which orders g.v_{i_0}...g.v_{i_k}\n",
    "            return g_cycle.sign()\n",
    "    return None"
   ]
  },
  {
   "cell_type": "code",
   "execution_count": 51,
   "metadata": {},
   "outputs": [],
   "source": [
    "#determine if there is group element which glues face non-trivially to itself\n",
    "def trivial_self_gluing(face,G,vertices):\n",
    "    trivial = True\n",
    "    for g in G:\n",
    "        #act on vertices defining face\n",
    "        g_face = act_face(g,face,vertices)\n",
    "        if g_face is not None and set(g_face) == set(face):\n",
    "            #check if the gluing is non-trivial\n",
    "            if [g_face.index(i) for i in face] != [i for i in range(len(face))]:\n",
    "                trivial = False\n",
    "    return trivial"
   ]
  },
  {
   "cell_type": "code",
   "execution_count": 52,
   "metadata": {},
   "outputs": [],
   "source": [
    "#toss out any facets with non-trivial self-gluings such as [0,3,4] or [1,6]\n",
    "#build list of faces for each dim\n",
    "import itertools\n",
    "def faces(k): return [face for face in itertools.combinations(range(len(vertices)), k+1) if trivial_self_gluing(face,G,vertices)]"
   ]
  },
  {
   "cell_type": "code",
   "execution_count": 53,
   "metadata": {},
   "outputs": [],
   "source": [
    "#find classes of vertices which are glued\n",
    "def glued_faces(k):\n",
    "    glued_verts = []\n",
    "    for i in faces(k):\n",
    "        found = False\n",
    "        for equiv_class in glued_verts:\n",
    "            if len(equiv_class) >= 1:\n",
    "                if faces_glued(i,equiv_class[0],G,vertices):\n",
    "                    equiv_class.append(i)\n",
    "                    found=True\n",
    "        if not found:\n",
    "            glued_verts.append([i])\n",
    "    return glued_verts"
   ]
  },
  {
   "cell_type": "code",
   "execution_count": 54,
   "metadata": {},
   "outputs": [],
   "source": [
    "#compute boundary of each face. keep track of orientation\n",
    "def boundary(face,glued_faces,vertices):\n",
    "    dim = len(face)-1 #face/simplex dimension is number of vertices in face-1\n",
    "    boundary = [0]*len(glued_faces[dim-1]) #initialize vector to count occurence boundary faces\n",
    "    for i in range(len(face)):\n",
    "        face_remove_i = face[:i] + face[i+1:] #remove vertex at index i\n",
    "        sign = (-1)^i\n",
    "        #find representative to which face\\{i} is glued to\n",
    "        for glued_face in glued_faces[dim-1]:\n",
    "            face_rep = glued_face[0] #use first face in glued_face list as representative\n",
    "            face_index = None\n",
    "            if face_remove_i in glued_face: #check if face_remove_i is in gluing class\n",
    "                face_index = glued_faces[dim-1].index(glued_face) #get index of face in glued (k-1)-faces\n",
    "                orient_preserve = gluing_preserves_orientation(face_rep,face_remove_i,vertices) #determine if gluing map preserves orientation\n",
    "            if face_index is not None:\n",
    "                boundary[face_index] += orient_preserve*sign #add up using index\n",
    "    return boundary"
   ]
  },
  {
   "cell_type": "code",
   "execution_count": 55,
   "metadata": {},
   "outputs": [],
   "source": [
    "#compute the boundary map matrix over \\ZZ\n",
    "def boundary_map(k): return matrix(ZZ,[boundary(face[0],glued_face_list,vertices) for face in glued_face_list[k]]).transpose()"
   ]
  },
  {
   "cell_type": "code",
   "execution_count": 56,
   "metadata": {},
   "outputs": [],
   "source": [
    "#define a chain complex, optionally truncated at max_degree\n",
    "def chain_complex(max_degree=1): return ChainComplex({k:boundary_map(k) for k in range(1,max_degree+1)},degree=-1)"
   ]
  },
  {
   "cell_type": "code",
   "execution_count": 57,
   "metadata": {},
   "outputs": [
    {
     "data": {
      "text/plain": [
       "[[(0,)], [(1,)], [(2,)], [(3,)]]"
      ]
     },
     "execution_count": 57,
     "metadata": {},
     "output_type": "execute_result"
    }
   ],
   "source": [
    "#compute glued 0-faces\n",
    "zero_faces=glued_faces(0); zero_faces"
   ]
  },
  {
   "cell_type": "code",
   "execution_count": 58,
   "metadata": {},
   "outputs": [
    {
     "data": {
      "text/plain": [
       "[[(0, 1)], [(0, 2)], [(0, 3)], [(1, 2)], [(1, 3)], [(2, 3)]]"
      ]
     },
     "execution_count": 58,
     "metadata": {},
     "output_type": "execute_result"
    }
   ],
   "source": [
    "#compute glued 1-faces\n",
    "one_faces=glued_faces(1); one_faces"
   ]
  },
  {
   "cell_type": "code",
   "execution_count": 59,
   "metadata": {},
   "outputs": [
    {
     "data": {
      "text/plain": [
       "[[(0, 1, 2)], [(0, 1, 3)], [(0, 2, 3)], [(1, 2, 3)]]"
      ]
     },
     "execution_count": 59,
     "metadata": {},
     "output_type": "execute_result"
    }
   ],
   "source": [
    "two_faces=glued_faces(2); two_faces"
   ]
  },
  {
   "cell_type": "code",
   "execution_count": 69,
   "metadata": {},
   "outputs": [
    {
     "data": {
      "text/plain": [
       "[[(0, 1, 2, 3)]]"
      ]
     },
     "execution_count": 69,
     "metadata": {},
     "output_type": "execute_result"
    }
   ],
   "source": [
    "three_faces=glued_faces(3); three_faces"
   ]
  },
  {
   "cell_type": "code",
   "execution_count": 61,
   "metadata": {},
   "outputs": [],
   "source": [
    "glued_face_list=[zero_faces,one_faces,two_faces,three_faces]"
   ]
  },
  {
   "cell_type": "code",
   "execution_count": 62,
   "metadata": {},
   "outputs": [
    {
     "data": {
      "text/plain": [
       "[-1 -1 -1  0  0  0]\n",
       "[ 1  0  0 -1 -1  0]\n",
       "[ 0  1  0  1  0 -1]\n",
       "[ 0  0  1  0  1  1]"
      ]
     },
     "execution_count": 62,
     "metadata": {},
     "output_type": "execute_result"
    }
   ],
   "source": [
    "d1=boundary_map(1); d1"
   ]
  },
  {
   "cell_type": "code",
   "execution_count": 63,
   "metadata": {},
   "outputs": [
    {
     "data": {
      "text/plain": [
       "[ 1  1  0  0]\n",
       "[-1  0  1  0]\n",
       "[ 0 -1 -1  0]\n",
       "[ 1  0  0  1]\n",
       "[ 0  1  0 -1]\n",
       "[ 0  0  1  1]"
      ]
     },
     "execution_count": 63,
     "metadata": {},
     "output_type": "execute_result"
    }
   ],
   "source": [
    "d2=boundary_map(2); d2"
   ]
  },
  {
   "cell_type": "code",
   "execution_count": 64,
   "metadata": {},
   "outputs": [
    {
     "data": {
      "text/plain": [
       "[-1]\n",
       "[ 1]\n",
       "[-1]\n",
       "[ 1]"
      ]
     },
     "execution_count": 64,
     "metadata": {},
     "output_type": "execute_result"
    }
   ],
   "source": [
    "d3=boundary_map(3); d3"
   ]
  },
  {
   "cell_type": "code",
   "execution_count": 65,
   "metadata": {},
   "outputs": [],
   "source": [
    "cc = chain_complex(max_degree=3)"
   ]
  },
  {
   "cell_type": "code",
   "execution_count": 66,
   "metadata": {},
   "outputs": [
    {
     "data": {
      "text/plain": [
       "{0: Z, 1: 0, 2: 0, 3: 0}"
      ]
     },
     "execution_count": 66,
     "metadata": {},
     "output_type": "execute_result"
    }
   ],
   "source": [
    "cc.homology()"
   ]
  },
  {
   "cell_type": "code",
   "execution_count": 67,
   "metadata": {},
   "outputs": [
    {
     "data": {
      "text/plain": [
       "[4, 6, 4, 1]"
      ]
     },
     "execution_count": 67,
     "metadata": {},
     "output_type": "execute_result"
    }
   ],
   "source": [
    "list(map(lambda x: len(x), glued_face_list))"
   ]
  },
  {
   "cell_type": "code",
   "execution_count": null,
   "metadata": {},
   "outputs": [],
   "source": []
  }
 ],
 "metadata": {
  "interpreter": {
   "hash": "31f2aee4e71d21fbe5cf8b01ff0e069b9275f58929596ceb00d14d90e3e16cd6"
  },
  "kernelspec": {
   "display_name": "SageMath 9.2",
   "language": "sage",
   "name": "sagemath"
  },
  "language_info": {
   "codemirror_mode": {
    "name": "ipython",
    "version": 3
   },
   "file_extension": ".py",
   "mimetype": "text/x-python",
   "name": "python",
   "nbconvert_exporter": "python",
   "pygments_lexer": "ipython3",
   "version": "3.7.7"
  }
 },
 "nbformat": 4,
 "nbformat_minor": 4
}
