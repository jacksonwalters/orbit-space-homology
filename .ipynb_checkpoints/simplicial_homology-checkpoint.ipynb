{
 "cells": [
  {
   "cell_type": "code",
   "execution_count": 1,
   "metadata": {},
   "outputs": [],
   "source": [
    "n = 4\n",
    "N=binomial(n,2)"
   ]
  },
  {
   "cell_type": "code",
   "execution_count": 2,
   "metadata": {},
   "outputs": [],
   "source": [
    "#list of unordered pairs of elements in {1,...,n}\n",
    "def pairs(n): return flatten([[[i+1,j+1] for j in range(i+1,n)] for i in range(n-1)],max_level=1)\n",
    "\n",
    "#sigma acts on an unordered pair\n",
    "def act(sigma, p): return sorted([sigma(p[0]),sigma(p[1])])\n",
    "\n",
    "#sigma acts as matrix in basis on a vector v\n",
    "def act_vect(g,v,basis=identity_matrix(N)): return (basis.inverse()*g.matrix()*basis)*vector(v)\n",
    "\n",
    "#permutation in Sigma_N which induced from perm in Sigma_n\n",
    "def embed(sigma,n): return perm_from_sort([act(sigma,p) for p in pairs(n)])\n",
    "\n",
    "#find permutation which orders a list L\t\n",
    "def perm_from_sort(L): return Permutation([pair[0] for pair in sorted(enumerate(L, 1), key=lambda x: x[1])]).to_cycles()\n",
    "\n",
    "#image of generators of Sigma_n under embedding into Sigma_N\n",
    "def embed_gens(n): return [embed(gen,n) for gen in SymmetricGroup(n).gens()]"
   ]
  },
  {
   "cell_type": "code",
   "execution_count": 3,
   "metadata": {},
   "outputs": [],
   "source": [
    "#fundamental domain given arbitrary distinct vector l and basis B\n",
    "def fund_domain(center=[i for i in range(N)],basis=identity_matrix(N),br=QQ,group=MatrixGroup(identity_matrix(N))):\n",
    "\n",
    "    #augmented matrix for half-plane ineqs\n",
    "    A = [ [center[j] - act_vect(group[i],vector(center),basis)[j] for j in range(N)] for i in range(group.order())]\n",
    "    b_1 = group.order()*[0]\n",
    "    bA = matrix(br,b_1).transpose().augment(matrix(br,A))\n",
    "\n",
    "    #augmented matrix for positivity ineqs\n",
    "    pos = basis.inverse().transpose()\n",
    "    b_2 = [0 for i in range(N)]\n",
    "    bPos = matrix(br,b_2).transpose().augment(pos)\n",
    "\n",
    "    #augmented matrix for fund. domain\n",
    "    aug_l = bA.stack(bPos)\n",
    "    \n",
    "    #find convex polyhedral region, i.e. intersection of all ineqs\n",
    "    poly = Polyhedron(ieqs=aug_l,base_ring=br)\n",
    "\n",
    "    return([aug_l,poly])"
   ]
  },
  {
   "cell_type": "code",
   "execution_count": 4,
   "metadata": {},
   "outputs": [],
   "source": [
    "#slice the fundamental domain with the plane x_1 + ... + x_N = 1\n",
    "def cross_section(region,slice_dir=[1 for i in range(N)],chi=1,br=None):\n",
    "    if br is None: br=region.base_ring()\n",
    "    return Polyhedron(ieqs=region.inequalities(),eqns=[[-1]+slice_dir],base_ring=br)"
   ]
  },
  {
   "cell_type": "code",
   "execution_count": 5,
   "metadata": {},
   "outputs": [],
   "source": [
    "#find fixed points under G in polyhedron F to include as new vertices\n",
    "#find intersection of fixed point subspace with F as polyhedron, and return those vertices\n",
    "def fixed_verts(F,br=QQ):\n",
    "    new_verts=set()\n",
    "    for g in G:\n",
    "        #get equations for fixed point subspace\n",
    "        A=g.matrix() #matrix associated to group element g\n",
    "        B=A-identity_matrix(N) #eqns defining fixed pt subspace are (A-Id)x == 0\n",
    "        b = N*[0] #0 vector\n",
    "        bB = matrix(br,b).transpose().augment(matrix(br,B))#form augmented matrix for equations defining subspace\n",
    "        #get equations for intersection\n",
    "        eqns=matrix(br,[list(eq) for eq in F.equations()]) #list of equations defining F\n",
    "        eqns=eqns.stack(bB) #augmented matrix including fixed point subspace equations\n",
    "        #get list of inequalities for fundamental domain as convex polyhedron\n",
    "        ieqs=matrix(br,[list(ieq) for ieq in F.inequalities()])\n",
    "        #form intersection of fund_domain with fixed point subspace\n",
    "        intersection_F_fixed_pt_subspace=Polyhedron(ieqs=ieqs,eqns=eqns)\n",
    "        verts=intersection_F_fixed_pt_subspace.vertices()\n",
    "        for vert in verts:\n",
    "            new_verts.add(tuple(vert))\n",
    "    return list(new_verts)"
   ]
  },
  {
   "cell_type": "code",
   "execution_count": 6,
   "metadata": {},
   "outputs": [],
   "source": [
    "#define the finite group\n",
    "G = PermutationGroup(embed_gens(n)) #symmetric group \\sigma_n as a subgroup of \\sigma_N, with 2 generators\n",
    "#G = MatrixGroup(matrix(QQ,[[0,1,0],[1,0,0],[0,0,1]]))"
   ]
  },
  {
   "cell_type": "code",
   "execution_count": 7,
   "metadata": {},
   "outputs": [
    {
     "data": {
      "text/plain": [
       "A 6-dimensional polyhedron in QQ^6 defined as the convex hull of 1 vertex and 7 rays (use the .plot() method to plot)"
      ]
     },
     "execution_count": 7,
     "metadata": {},
     "output_type": "execute_result"
    }
   ],
   "source": [
    "#compute fundamental domain to get list of vertices\n",
    "F=fund_domain(group=G); F[1]"
   ]
  },
  {
   "cell_type": "code",
   "execution_count": 8,
   "metadata": {},
   "outputs": [
    {
     "data": {
      "text/plain": [
       "[(1/2, 0, 0, 0, 0, 1/2),\n",
       " (0, 1/2, 0, 0, 1/2, 0),\n",
       " (0, 0, 0, 0, 1/2, 1/2),\n",
       " (0, 0, 0, 1/3, 1/3, 1/3),\n",
       " (0, 0, 1/2, 1/2, 0, 0),\n",
       " (0, 0, 1/3, 0, 1/3, 1/3),\n",
       " (0, 0, 0, 0, 0, 1)]"
      ]
     },
     "execution_count": 8,
     "metadata": {},
     "output_type": "execute_result"
    }
   ],
   "source": [
    "F2=cross_section(F[1])\n",
    "[tuple(v) for v in F2.vertices()]"
   ]
  },
  {
   "cell_type": "code",
   "execution_count": 9,
   "metadata": {},
   "outputs": [
    {
     "data": {
      "text/plain": [
       "[(0, 1/4, 1/4, 1/4, 1/4, 0),\n",
       " (1/2, 0, 0, 0, 0, 1/2),\n",
       " (0, 0, 1/3, 0, 1/3, 1/3),\n",
       " (1/4, 0, 1/4, 1/4, 0, 1/4),\n",
       " (1/4, 1/4, 0, 0, 1/4, 1/4),\n",
       " (0, 0, 0, 1/3, 1/3, 1/3),\n",
       " (0, 0, 1/2, 1/2, 0, 0),\n",
       " (0, 0, 0, 0, 0, 1),\n",
       " (1/6, 1/6, 1/6, 1/6, 1/6, 1/6),\n",
       " (0, 0, 0, 0, 1/2, 1/2),\n",
       " (0, 1/2, 0, 0, 1/2, 0)]"
      ]
     },
     "execution_count": 9,
     "metadata": {},
     "output_type": "execute_result"
    }
   ],
   "source": [
    "vertices=fixed_verts(F2,QQ); vertices"
   ]
  },
  {
   "cell_type": "code",
   "execution_count": 10,
   "metadata": {},
   "outputs": [],
   "source": [
    "#determine if face1 is glued to face2 by the action of G\n",
    "#faces are given by list or set of vertex indices\n",
    "def faces_glued(face1,face2,G,vertices):\n",
    "    for g in G:\n",
    "        g_face1 = [vertices.index(tuple(act_vect(g,vertices[i]))) if tuple(act_vect(g,vertices[i])) in vertices else i for i in face1]\n",
    "        if set(g_face1) == set(face2):\n",
    "            return True\n",
    "    return False"
   ]
  },
  {
   "cell_type": "code",
   "execution_count": 11,
   "metadata": {},
   "outputs": [],
   "source": [
    "#return all elements which glue face1 to face2\n",
    "#faces are given by list or set of vertex indices\n",
    "def gluing_elmts(face1,face2,G,vertices):\n",
    "    gluing_elements = []\n",
    "    for g in G:\n",
    "        #act on vertices defining face. if g.v_i is not in vertex set {v_i}, use v_i. \n",
    "        g_face1 = [vertices.index(tuple(act_vect(g,vertices[i]))) if tuple(act_vect(g,vertices[i])) in vertices else i for i in face1]\n",
    "        #if vertex sets match, add element to list\n",
    "        if set(g_face1) == set(face2):\n",
    "            gluing_elements.append(g)\n",
    "    return gluing_elements"
   ]
  },
  {
   "cell_type": "code",
   "execution_count": 12,
   "metadata": {},
   "outputs": [],
   "source": [
    "def trivial_self_gluing(face,G,vertices):\n",
    "    trivial = True\n",
    "    for g in G:\n",
    "        #act on vertices defining face\n",
    "        g_face = [vertices.index(tuple(act_vect(g,vertices[i]))) if tuple(act_vect(g,vertices[i])) in vertices else i for i in face]\n",
    "        #if vertex sets match, add element to list\n",
    "        if set(g_face) == set(face):\n",
    "            #check if the gluing is non-trivial\n",
    "            if [g_face.index(i) for i in face] != [i for i in range(len(face))]:\n",
    "                trivial = False\n",
    "    return trivial"
   ]
  },
  {
   "cell_type": "code",
   "execution_count": 13,
   "metadata": {},
   "outputs": [
    {
     "data": {
      "text/plain": [
       "127"
      ]
     },
     "execution_count": 13,
     "metadata": {},
     "output_type": "execute_result"
    }
   ],
   "source": [
    "#toss out any facets with non-trivial self-gluings such as [0,3,4] or [1,6]\n",
    "#build list of faces for each dim\n",
    "import itertools\n",
    "def faces(k): return [face for face in itertools.combinations(range(len(vertices)), k+1) if trivial_self_gluing(face,G,vertices)]\n",
    "len(faces(2))"
   ]
  },
  {
   "cell_type": "code",
   "execution_count": 14,
   "metadata": {},
   "outputs": [],
   "source": [
    "#find classes of vertices which are glued\n",
    "def glued_faces(k):\n",
    "    glued_verts = []\n",
    "    for i in faces(k):\n",
    "        found = False\n",
    "        for equiv_class in glued_verts:\n",
    "            if len(equiv_class) >= 1:\n",
    "                if faces_glued(i,equiv_class[0],G,vertices):\n",
    "                    equiv_class.append(i)\n",
    "                    found=True\n",
    "        if not found:\n",
    "            glued_verts.append([i])\n",
    "    return glued_verts"
   ]
  },
  {
   "cell_type": "code",
   "execution_count": 15,
   "metadata": {},
   "outputs": [],
   "source": [
    "#compute glued 0-faces\n",
    "zero_faces=glued_faces(0)"
   ]
  },
  {
   "cell_type": "code",
   "execution_count": 16,
   "metadata": {},
   "outputs": [],
   "source": [
    "#compute glued 1-faces\n",
    "one_faces=glued_faces(1)"
   ]
  },
  {
   "cell_type": "code",
   "execution_count": 87,
   "metadata": {},
   "outputs": [],
   "source": [
    "two_faces=glued_faces(2)"
   ]
  },
  {
   "cell_type": "code",
   "execution_count": 90,
   "metadata": {},
   "outputs": [],
   "source": [
    "three_faces=glued_faces(3)"
   ]
  },
  {
   "cell_type": "code",
   "execution_count": 92,
   "metadata": {},
   "outputs": [],
   "source": [
    "four_faces=glued_faces(4)"
   ]
  },
  {
   "cell_type": "code",
   "execution_count": 93,
   "metadata": {},
   "outputs": [],
   "source": [
    "five_faces=glued_faces(5)"
   ]
  },
  {
   "cell_type": "code",
   "execution_count": null,
   "metadata": {},
   "outputs": [],
   "source": [
    "six_faces=glued_faces(6)"
   ]
  },
  {
   "cell_type": "code",
   "execution_count": 96,
   "metadata": {},
   "outputs": [
    {
     "data": {
      "text/plain": [
       "[7, 22, 42, 56, 56, 42]"
      ]
     },
     "execution_count": 96,
     "metadata": {},
     "output_type": "execute_result"
    }
   ],
   "source": [
    "[len(zero_faces),len(one_faces),len(two_faces),len(three_faces),len(four_faces),len(five_faces)]"
   ]
  },
  {
   "cell_type": "code",
   "execution_count": 164,
   "metadata": {},
   "outputs": [
    {
     "data": {
      "text/plain": [
       "[3, 3, 1]"
      ]
     },
     "execution_count": 164,
     "metadata": {},
     "output_type": "execute_result"
    }
   ],
   "source": [
    "[len(faces(k)) for k in range(3)]"
   ]
  },
  {
   "cell_type": "code",
   "execution_count": 97,
   "metadata": {},
   "outputs": [
    {
     "data": {
      "text/plain": [
       "-15"
      ]
     },
     "execution_count": 97,
     "metadata": {},
     "output_type": "execute_result"
    }
   ],
   "source": [
    "7-22+42-56+56-42"
   ]
  },
  {
   "cell_type": "code",
   "execution_count": 100,
   "metadata": {},
   "outputs": [
    {
     "name": "stdout",
     "output_type": "stream",
     "text": [
      "0-faces: [[(0,), (3,), (4,)], [(1,), (6,), (10,)], [(2,)], [(5,)], [(7,)], [(8,)], [(9,)]]\n",
      "1-faces: [[(0, 1), (3, 10), (4, 6)], [(0, 2), (2, 3), (2, 4)], [(0, 5), (3, 5), (4, 5)], [(0, 6), (0, 10), (1, 3), (1, 4), (3, 6), (4, 10)], [(0, 7), (3, 7), (4, 7)], [(0, 8), (3, 8), (4, 8)], [(0, 9), (3, 9), (4, 9)], [(1, 2), (2, 6), (2, 10)], [(1, 5), (5, 6), (5, 10)], [(1, 7), (6, 7), (7, 10)], [(1, 8), (6, 8), (8, 10)], [(1, 9), (6, 9), (9, 10)], [(2, 5)], [(2, 7)], [(2, 8)], [(2, 9)], [(5, 7)], [(5, 8)], [(5, 9)], [(7, 8)], [(7, 9)], [(8, 9)]]\n",
      "2-faces: [[(0, 1, 2), (2, 3, 10), (2, 4, 6)], [(0, 1, 3), (0, 1, 4), (0, 3, 10), (0, 4, 6), (3, 4, 6), (3, 4, 10)], [(0, 1, 5), (3, 5, 10), (4, 5, 6)], [(0, 1, 6), (0, 1, 10), (1, 3, 10), (1, 4, 6), (3, 6, 10), (4, 6, 10)], [(0, 1, 7), (3, 7, 10), (4, 6, 7)], [(0, 1, 8), (3, 8, 10), (4, 6, 8)], [(0, 1, 9), (3, 9, 10), (4, 6, 9)], [(0, 2, 5), (2, 3, 5), (2, 4, 5)], [(0, 2, 6), (0, 2, 10), (1, 2, 3), (1, 2, 4), (2, 3, 6), (2, 4, 10)], [(0, 2, 7), (2, 3, 7), (2, 4, 7)], [(0, 2, 8), (2, 3, 8), (2, 4, 8)], [(0, 2, 9), (2, 3, 9), (2, 4, 9)], [(0, 5, 6), (0, 5, 10), (1, 3, 5), (1, 4, 5), (3, 5, 6), (4, 5, 10)], [(0, 5, 7), (3, 5, 7), (4, 5, 7)], [(0, 5, 8), (3, 5, 8), (4, 5, 8)], [(0, 5, 9), (3, 5, 9), (4, 5, 9)], [(0, 6, 7), (0, 7, 10), (1, 3, 7), (1, 4, 7), (3, 6, 7), (4, 7, 10)], [(0, 6, 8), (0, 8, 10), (1, 3, 8), (1, 4, 8), (3, 6, 8), (4, 8, 10)], [(0, 6, 9), (0, 9, 10), (1, 3, 9), (1, 4, 9), (3, 6, 9), (4, 9, 10)], [(0, 7, 8), (3, 7, 8), (4, 7, 8)], [(0, 7, 9), (3, 7, 9), (4, 7, 9)], [(0, 8, 9), (3, 8, 9), (4, 8, 9)], [(1, 2, 5), (2, 5, 6), (2, 5, 10)], [(1, 2, 7), (2, 6, 7), (2, 7, 10)], [(1, 2, 8), (2, 6, 8), (2, 8, 10)], [(1, 2, 9), (2, 6, 9), (2, 9, 10)], [(1, 5, 7), (5, 6, 7), (5, 7, 10)], [(1, 5, 8), (5, 6, 8), (5, 8, 10)], [(1, 5, 9), (5, 6, 9), (5, 9, 10)], [(1, 7, 8), (6, 7, 8), (7, 8, 10)], [(1, 7, 9), (6, 7, 9), (7, 9, 10)], [(1, 8, 9), (6, 8, 9), (8, 9, 10)], [(2, 5, 7)], [(2, 5, 8)], [(2, 5, 9)], [(2, 7, 8)], [(2, 7, 9)], [(2, 8, 9)], [(5, 7, 8)], [(5, 7, 9)], [(5, 8, 9)], [(7, 8, 9)]]\n",
      "3-faces: [[(0, 1, 2, 3), (0, 1, 2, 4), (0, 2, 3, 10), (0, 2, 4, 6), (2, 3, 4, 6), (2, 3, 4, 10)], [(0, 1, 2, 5), (2, 3, 5, 10), (2, 4, 5, 6)], [(0, 1, 2, 6), (0, 1, 2, 10), (1, 2, 3, 10), (1, 2, 4, 6), (2, 3, 6, 10), (2, 4, 6, 10)], [(0, 1, 2, 7), (2, 3, 7, 10), (2, 4, 6, 7)], [(0, 1, 2, 8), (2, 3, 8, 10), (2, 4, 6, 8)], [(0, 1, 2, 9), (2, 3, 9, 10), (2, 4, 6, 9)], [(0, 1, 3, 5), (0, 1, 4, 5), (0, 3, 5, 10), (0, 4, 5, 6), (3, 4, 5, 6), (3, 4, 5, 10)], [(0, 1, 3, 6), (0, 1, 4, 10), (0, 3, 6, 10), (0, 4, 6, 10), (1, 3, 4, 6), (1, 3, 4, 10)], [(0, 1, 3, 7), (0, 1, 4, 7), (0, 3, 7, 10), (0, 4, 6, 7), (3, 4, 6, 7), (3, 4, 7, 10)], [(0, 1, 3, 8), (0, 1, 4, 8), (0, 3, 8, 10), (0, 4, 6, 8), (3, 4, 6, 8), (3, 4, 8, 10)], [(0, 1, 3, 9), (0, 1, 4, 9), (0, 3, 9, 10), (0, 4, 6, 9), (3, 4, 6, 9), (3, 4, 9, 10)], [(0, 1, 5, 6), (0, 1, 5, 10), (1, 3, 5, 10), (1, 4, 5, 6), (3, 5, 6, 10), (4, 5, 6, 10)], [(0, 1, 5, 7), (3, 5, 7, 10), (4, 5, 6, 7)], [(0, 1, 5, 8), (3, 5, 8, 10), (4, 5, 6, 8)], [(0, 1, 5, 9), (3, 5, 9, 10), (4, 5, 6, 9)], [(0, 1, 6, 7), (0, 1, 7, 10), (1, 3, 7, 10), (1, 4, 6, 7), (3, 6, 7, 10), (4, 6, 7, 10)], [(0, 1, 6, 8), (0, 1, 8, 10), (1, 3, 8, 10), (1, 4, 6, 8), (3, 6, 8, 10), (4, 6, 8, 10)], [(0, 1, 6, 9), (0, 1, 9, 10), (1, 3, 9, 10), (1, 4, 6, 9), (3, 6, 9, 10), (4, 6, 9, 10)], [(0, 1, 7, 8), (3, 7, 8, 10), (4, 6, 7, 8)], [(0, 1, 7, 9), (3, 7, 9, 10), (4, 6, 7, 9)], [(0, 1, 8, 9), (3, 8, 9, 10), (4, 6, 8, 9)], [(0, 2, 5, 6), (0, 2, 5, 10), (1, 2, 3, 5), (1, 2, 4, 5), (2, 3, 5, 6), (2, 4, 5, 10)], [(0, 2, 5, 7), (2, 3, 5, 7), (2, 4, 5, 7)], [(0, 2, 5, 8), (2, 3, 5, 8), (2, 4, 5, 8)], [(0, 2, 5, 9), (2, 3, 5, 9), (2, 4, 5, 9)], [(0, 2, 6, 7), (0, 2, 7, 10), (1, 2, 3, 7), (1, 2, 4, 7), (2, 3, 6, 7), (2, 4, 7, 10)], [(0, 2, 6, 8), (0, 2, 8, 10), (1, 2, 3, 8), (1, 2, 4, 8), (2, 3, 6, 8), (2, 4, 8, 10)], [(0, 2, 6, 9), (0, 2, 9, 10), (1, 2, 3, 9), (1, 2, 4, 9), (2, 3, 6, 9), (2, 4, 9, 10)], [(0, 2, 7, 8), (2, 3, 7, 8), (2, 4, 7, 8)], [(0, 2, 7, 9), (2, 3, 7, 9), (2, 4, 7, 9)], [(0, 2, 8, 9), (2, 3, 8, 9), (2, 4, 8, 9)], [(0, 5, 6, 7), (0, 5, 7, 10), (1, 3, 5, 7), (1, 4, 5, 7), (3, 5, 6, 7), (4, 5, 7, 10)], [(0, 5, 6, 8), (0, 5, 8, 10), (1, 3, 5, 8), (1, 4, 5, 8), (3, 5, 6, 8), (4, 5, 8, 10)], [(0, 5, 6, 9), (0, 5, 9, 10), (1, 3, 5, 9), (1, 4, 5, 9), (3, 5, 6, 9), (4, 5, 9, 10)], [(0, 5, 7, 8), (3, 5, 7, 8), (4, 5, 7, 8)], [(0, 5, 7, 9), (3, 5, 7, 9), (4, 5, 7, 9)], [(0, 5, 8, 9), (3, 5, 8, 9), (4, 5, 8, 9)], [(0, 6, 7, 8), (0, 7, 8, 10), (1, 3, 7, 8), (1, 4, 7, 8), (3, 6, 7, 8), (4, 7, 8, 10)], [(0, 6, 7, 9), (0, 7, 9, 10), (1, 3, 7, 9), (1, 4, 7, 9), (3, 6, 7, 9), (4, 7, 9, 10)], [(0, 6, 8, 9), (0, 8, 9, 10), (1, 3, 8, 9), (1, 4, 8, 9), (3, 6, 8, 9), (4, 8, 9, 10)], [(0, 7, 8, 9), (3, 7, 8, 9), (4, 7, 8, 9)], [(1, 2, 5, 7), (2, 5, 6, 7), (2, 5, 7, 10)], [(1, 2, 5, 8), (2, 5, 6, 8), (2, 5, 8, 10)], [(1, 2, 5, 9), (2, 5, 6, 9), (2, 5, 9, 10)], [(1, 2, 7, 8), (2, 6, 7, 8), (2, 7, 8, 10)], [(1, 2, 7, 9), (2, 6, 7, 9), (2, 7, 9, 10)], [(1, 2, 8, 9), (2, 6, 8, 9), (2, 8, 9, 10)], [(1, 5, 7, 8), (5, 6, 7, 8), (5, 7, 8, 10)], [(1, 5, 7, 9), (5, 6, 7, 9), (5, 7, 9, 10)], [(1, 5, 8, 9), (5, 6, 8, 9), (5, 8, 9, 10)], [(1, 7, 8, 9), (6, 7, 8, 9), (7, 8, 9, 10)], [(2, 5, 7, 8)], [(2, 5, 7, 9)], [(2, 5, 8, 9)], [(2, 7, 8, 9)], [(5, 7, 8, 9)]]\n",
      "4-faces: [[(0, 1, 2, 3, 5), (0, 1, 2, 4, 5), (0, 2, 3, 5, 10), (0, 2, 4, 5, 6), (2, 3, 4, 5, 6), (2, 3, 4, 5, 10)], [(0, 1, 2, 3, 6), (0, 1, 2, 4, 10), (0, 2, 3, 6, 10), (0, 2, 4, 6, 10), (1, 2, 3, 4, 6), (1, 2, 3, 4, 10)], [(0, 1, 2, 3, 7), (0, 1, 2, 4, 7), (0, 2, 3, 7, 10), (0, 2, 4, 6, 7), (2, 3, 4, 6, 7), (2, 3, 4, 7, 10)], [(0, 1, 2, 3, 8), (0, 1, 2, 4, 8), (0, 2, 3, 8, 10), (0, 2, 4, 6, 8), (2, 3, 4, 6, 8), (2, 3, 4, 8, 10)], [(0, 1, 2, 3, 9), (0, 1, 2, 4, 9), (0, 2, 3, 9, 10), (0, 2, 4, 6, 9), (2, 3, 4, 6, 9), (2, 3, 4, 9, 10)], [(0, 1, 2, 5, 6), (0, 1, 2, 5, 10), (1, 2, 3, 5, 10), (1, 2, 4, 5, 6), (2, 3, 5, 6, 10), (2, 4, 5, 6, 10)], [(0, 1, 2, 5, 7), (2, 3, 5, 7, 10), (2, 4, 5, 6, 7)], [(0, 1, 2, 5, 8), (2, 3, 5, 8, 10), (2, 4, 5, 6, 8)], [(0, 1, 2, 5, 9), (2, 3, 5, 9, 10), (2, 4, 5, 6, 9)], [(0, 1, 2, 6, 7), (0, 1, 2, 7, 10), (1, 2, 3, 7, 10), (1, 2, 4, 6, 7), (2, 3, 6, 7, 10), (2, 4, 6, 7, 10)], [(0, 1, 2, 6, 8), (0, 1, 2, 8, 10), (1, 2, 3, 8, 10), (1, 2, 4, 6, 8), (2, 3, 6, 8, 10), (2, 4, 6, 8, 10)], [(0, 1, 2, 6, 9), (0, 1, 2, 9, 10), (1, 2, 3, 9, 10), (1, 2, 4, 6, 9), (2, 3, 6, 9, 10), (2, 4, 6, 9, 10)], [(0, 1, 2, 7, 8), (2, 3, 7, 8, 10), (2, 4, 6, 7, 8)], [(0, 1, 2, 7, 9), (2, 3, 7, 9, 10), (2, 4, 6, 7, 9)], [(0, 1, 2, 8, 9), (2, 3, 8, 9, 10), (2, 4, 6, 8, 9)], [(0, 1, 3, 5, 6), (0, 1, 4, 5, 10), (0, 3, 5, 6, 10), (0, 4, 5, 6, 10), (1, 3, 4, 5, 6), (1, 3, 4, 5, 10)], [(0, 1, 3, 5, 7), (0, 1, 4, 5, 7), (0, 3, 5, 7, 10), (0, 4, 5, 6, 7), (3, 4, 5, 6, 7), (3, 4, 5, 7, 10)], [(0, 1, 3, 5, 8), (0, 1, 4, 5, 8), (0, 3, 5, 8, 10), (0, 4, 5, 6, 8), (3, 4, 5, 6, 8), (3, 4, 5, 8, 10)], [(0, 1, 3, 5, 9), (0, 1, 4, 5, 9), (0, 3, 5, 9, 10), (0, 4, 5, 6, 9), (3, 4, 5, 6, 9), (3, 4, 5, 9, 10)], [(0, 1, 3, 6, 7), (0, 1, 4, 7, 10), (0, 3, 6, 7, 10), (0, 4, 6, 7, 10), (1, 3, 4, 6, 7), (1, 3, 4, 7, 10)], [(0, 1, 3, 6, 8), (0, 1, 4, 8, 10), (0, 3, 6, 8, 10), (0, 4, 6, 8, 10), (1, 3, 4, 6, 8), (1, 3, 4, 8, 10)], [(0, 1, 3, 6, 9), (0, 1, 4, 9, 10), (0, 3, 6, 9, 10), (0, 4, 6, 9, 10), (1, 3, 4, 6, 9), (1, 3, 4, 9, 10)], [(0, 1, 3, 7, 8), (0, 1, 4, 7, 8), (0, 3, 7, 8, 10), (0, 4, 6, 7, 8), (3, 4, 6, 7, 8), (3, 4, 7, 8, 10)], [(0, 1, 3, 7, 9), (0, 1, 4, 7, 9), (0, 3, 7, 9, 10), (0, 4, 6, 7, 9), (3, 4, 6, 7, 9), (3, 4, 7, 9, 10)], [(0, 1, 3, 8, 9), (0, 1, 4, 8, 9), (0, 3, 8, 9, 10), (0, 4, 6, 8, 9), (3, 4, 6, 8, 9), (3, 4, 8, 9, 10)], [(0, 1, 5, 6, 7), (0, 1, 5, 7, 10), (1, 3, 5, 7, 10), (1, 4, 5, 6, 7), (3, 5, 6, 7, 10), (4, 5, 6, 7, 10)], [(0, 1, 5, 6, 8), (0, 1, 5, 8, 10), (1, 3, 5, 8, 10), (1, 4, 5, 6, 8), (3, 5, 6, 8, 10), (4, 5, 6, 8, 10)], [(0, 1, 5, 6, 9), (0, 1, 5, 9, 10), (1, 3, 5, 9, 10), (1, 4, 5, 6, 9), (3, 5, 6, 9, 10), (4, 5, 6, 9, 10)], [(0, 1, 5, 7, 8), (3, 5, 7, 8, 10), (4, 5, 6, 7, 8)], [(0, 1, 5, 7, 9), (3, 5, 7, 9, 10), (4, 5, 6, 7, 9)], [(0, 1, 5, 8, 9), (3, 5, 8, 9, 10), (4, 5, 6, 8, 9)], [(0, 1, 6, 7, 8), (0, 1, 7, 8, 10), (1, 3, 7, 8, 10), (1, 4, 6, 7, 8), (3, 6, 7, 8, 10), (4, 6, 7, 8, 10)], [(0, 1, 6, 7, 9), (0, 1, 7, 9, 10), (1, 3, 7, 9, 10), (1, 4, 6, 7, 9), (3, 6, 7, 9, 10), (4, 6, 7, 9, 10)], [(0, 1, 6, 8, 9), (0, 1, 8, 9, 10), (1, 3, 8, 9, 10), (1, 4, 6, 8, 9), (3, 6, 8, 9, 10), (4, 6, 8, 9, 10)], [(0, 1, 7, 8, 9), (3, 7, 8, 9, 10), (4, 6, 7, 8, 9)], [(0, 2, 5, 6, 7), (0, 2, 5, 7, 10), (1, 2, 3, 5, 7), (1, 2, 4, 5, 7), (2, 3, 5, 6, 7), (2, 4, 5, 7, 10)], [(0, 2, 5, 6, 8), (0, 2, 5, 8, 10), (1, 2, 3, 5, 8), (1, 2, 4, 5, 8), (2, 3, 5, 6, 8), (2, 4, 5, 8, 10)], [(0, 2, 5, 6, 9), (0, 2, 5, 9, 10), (1, 2, 3, 5, 9), (1, 2, 4, 5, 9), (2, 3, 5, 6, 9), (2, 4, 5, 9, 10)], [(0, 2, 5, 7, 8), (2, 3, 5, 7, 8), (2, 4, 5, 7, 8)], [(0, 2, 5, 7, 9), (2, 3, 5, 7, 9), (2, 4, 5, 7, 9)], [(0, 2, 5, 8, 9), (2, 3, 5, 8, 9), (2, 4, 5, 8, 9)], [(0, 2, 6, 7, 8), (0, 2, 7, 8, 10), (1, 2, 3, 7, 8), (1, 2, 4, 7, 8), (2, 3, 6, 7, 8), (2, 4, 7, 8, 10)], [(0, 2, 6, 7, 9), (0, 2, 7, 9, 10), (1, 2, 3, 7, 9), (1, 2, 4, 7, 9), (2, 3, 6, 7, 9), (2, 4, 7, 9, 10)], [(0, 2, 6, 8, 9), (0, 2, 8, 9, 10), (1, 2, 3, 8, 9), (1, 2, 4, 8, 9), (2, 3, 6, 8, 9), (2, 4, 8, 9, 10)], [(0, 2, 7, 8, 9), (2, 3, 7, 8, 9), (2, 4, 7, 8, 9)], [(0, 5, 6, 7, 8), (0, 5, 7, 8, 10), (1, 3, 5, 7, 8), (1, 4, 5, 7, 8), (3, 5, 6, 7, 8), (4, 5, 7, 8, 10)], [(0, 5, 6, 7, 9), (0, 5, 7, 9, 10), (1, 3, 5, 7, 9), (1, 4, 5, 7, 9), (3, 5, 6, 7, 9), (4, 5, 7, 9, 10)], [(0, 5, 6, 8, 9), (0, 5, 8, 9, 10), (1, 3, 5, 8, 9), (1, 4, 5, 8, 9), (3, 5, 6, 8, 9), (4, 5, 8, 9, 10)], [(0, 5, 7, 8, 9), (3, 5, 7, 8, 9), (4, 5, 7, 8, 9)], [(0, 6, 7, 8, 9), (0, 7, 8, 9, 10), (1, 3, 7, 8, 9), (1, 4, 7, 8, 9), (3, 6, 7, 8, 9), (4, 7, 8, 9, 10)], [(1, 2, 5, 7, 8), (2, 5, 6, 7, 8), (2, 5, 7, 8, 10)], [(1, 2, 5, 7, 9), (2, 5, 6, 7, 9), (2, 5, 7, 9, 10)], [(1, 2, 5, 8, 9), (2, 5, 6, 8, 9), (2, 5, 8, 9, 10)], [(1, 2, 7, 8, 9), (2, 6, 7, 8, 9), (2, 7, 8, 9, 10)], [(1, 5, 7, 8, 9), (5, 6, 7, 8, 9), (5, 7, 8, 9, 10)], [(2, 5, 7, 8, 9)]]\n",
      "5-faces: [[(0, 1, 2, 3, 5, 6), (0, 1, 2, 4, 5, 10), (0, 2, 3, 5, 6, 10), (0, 2, 4, 5, 6, 10), (1, 2, 3, 4, 5, 6), (1, 2, 3, 4, 5, 10)], [(0, 1, 2, 3, 5, 7), (0, 1, 2, 4, 5, 7), (0, 2, 3, 5, 7, 10), (0, 2, 4, 5, 6, 7), (2, 3, 4, 5, 6, 7), (2, 3, 4, 5, 7, 10)], [(0, 1, 2, 3, 5, 8), (0, 1, 2, 4, 5, 8), (0, 2, 3, 5, 8, 10), (0, 2, 4, 5, 6, 8), (2, 3, 4, 5, 6, 8), (2, 3, 4, 5, 8, 10)], [(0, 1, 2, 3, 5, 9), (0, 1, 2, 4, 5, 9), (0, 2, 3, 5, 9, 10), (0, 2, 4, 5, 6, 9), (2, 3, 4, 5, 6, 9), (2, 3, 4, 5, 9, 10)], [(0, 1, 2, 3, 6, 7), (0, 1, 2, 4, 7, 10), (0, 2, 3, 6, 7, 10), (0, 2, 4, 6, 7, 10), (1, 2, 3, 4, 6, 7), (1, 2, 3, 4, 7, 10)], [(0, 1, 2, 3, 6, 8), (0, 1, 2, 4, 8, 10), (0, 2, 3, 6, 8, 10), (0, 2, 4, 6, 8, 10), (1, 2, 3, 4, 6, 8), (1, 2, 3, 4, 8, 10)], [(0, 1, 2, 3, 6, 9), (0, 1, 2, 4, 9, 10), (0, 2, 3, 6, 9, 10), (0, 2, 4, 6, 9, 10), (1, 2, 3, 4, 6, 9), (1, 2, 3, 4, 9, 10)], [(0, 1, 2, 3, 7, 8), (0, 1, 2, 4, 7, 8), (0, 2, 3, 7, 8, 10), (0, 2, 4, 6, 7, 8), (2, 3, 4, 6, 7, 8), (2, 3, 4, 7, 8, 10)], [(0, 1, 2, 3, 7, 9), (0, 1, 2, 4, 7, 9), (0, 2, 3, 7, 9, 10), (0, 2, 4, 6, 7, 9), (2, 3, 4, 6, 7, 9), (2, 3, 4, 7, 9, 10)], [(0, 1, 2, 3, 8, 9), (0, 1, 2, 4, 8, 9), (0, 2, 3, 8, 9, 10), (0, 2, 4, 6, 8, 9), (2, 3, 4, 6, 8, 9), (2, 3, 4, 8, 9, 10)], [(0, 1, 2, 5, 6, 7), (0, 1, 2, 5, 7, 10), (1, 2, 3, 5, 7, 10), (1, 2, 4, 5, 6, 7), (2, 3, 5, 6, 7, 10), (2, 4, 5, 6, 7, 10)], [(0, 1, 2, 5, 6, 8), (0, 1, 2, 5, 8, 10), (1, 2, 3, 5, 8, 10), (1, 2, 4, 5, 6, 8), (2, 3, 5, 6, 8, 10), (2, 4, 5, 6, 8, 10)], [(0, 1, 2, 5, 6, 9), (0, 1, 2, 5, 9, 10), (1, 2, 3, 5, 9, 10), (1, 2, 4, 5, 6, 9), (2, 3, 5, 6, 9, 10), (2, 4, 5, 6, 9, 10)], [(0, 1, 2, 5, 7, 8), (2, 3, 5, 7, 8, 10), (2, 4, 5, 6, 7, 8)], [(0, 1, 2, 5, 7, 9), (2, 3, 5, 7, 9, 10), (2, 4, 5, 6, 7, 9)], [(0, 1, 2, 5, 8, 9), (2, 3, 5, 8, 9, 10), (2, 4, 5, 6, 8, 9)], [(0, 1, 2, 6, 7, 8), (0, 1, 2, 7, 8, 10), (1, 2, 3, 7, 8, 10), (1, 2, 4, 6, 7, 8), (2, 3, 6, 7, 8, 10), (2, 4, 6, 7, 8, 10)], [(0, 1, 2, 6, 7, 9), (0, 1, 2, 7, 9, 10), (1, 2, 3, 7, 9, 10), (1, 2, 4, 6, 7, 9), (2, 3, 6, 7, 9, 10), (2, 4, 6, 7, 9, 10)], [(0, 1, 2, 6, 8, 9), (0, 1, 2, 8, 9, 10), (1, 2, 3, 8, 9, 10), (1, 2, 4, 6, 8, 9), (2, 3, 6, 8, 9, 10), (2, 4, 6, 8, 9, 10)], [(0, 1, 2, 7, 8, 9), (2, 3, 7, 8, 9, 10), (2, 4, 6, 7, 8, 9)], [(0, 1, 3, 5, 6, 7), (0, 1, 4, 5, 7, 10), (0, 3, 5, 6, 7, 10), (0, 4, 5, 6, 7, 10), (1, 3, 4, 5, 6, 7), (1, 3, 4, 5, 7, 10)], [(0, 1, 3, 5, 6, 8), (0, 1, 4, 5, 8, 10), (0, 3, 5, 6, 8, 10), (0, 4, 5, 6, 8, 10), (1, 3, 4, 5, 6, 8), (1, 3, 4, 5, 8, 10)], [(0, 1, 3, 5, 6, 9), (0, 1, 4, 5, 9, 10), (0, 3, 5, 6, 9, 10), (0, 4, 5, 6, 9, 10), (1, 3, 4, 5, 6, 9), (1, 3, 4, 5, 9, 10)], [(0, 1, 3, 5, 7, 8), (0, 1, 4, 5, 7, 8), (0, 3, 5, 7, 8, 10), (0, 4, 5, 6, 7, 8), (3, 4, 5, 6, 7, 8), (3, 4, 5, 7, 8, 10)], [(0, 1, 3, 5, 7, 9), (0, 1, 4, 5, 7, 9), (0, 3, 5, 7, 9, 10), (0, 4, 5, 6, 7, 9), (3, 4, 5, 6, 7, 9), (3, 4, 5, 7, 9, 10)], [(0, 1, 3, 5, 8, 9), (0, 1, 4, 5, 8, 9), (0, 3, 5, 8, 9, 10), (0, 4, 5, 6, 8, 9), (3, 4, 5, 6, 8, 9), (3, 4, 5, 8, 9, 10)], [(0, 1, 3, 6, 7, 8), (0, 1, 4, 7, 8, 10), (0, 3, 6, 7, 8, 10), (0, 4, 6, 7, 8, 10), (1, 3, 4, 6, 7, 8), (1, 3, 4, 7, 8, 10)], [(0, 1, 3, 6, 7, 9), (0, 1, 4, 7, 9, 10), (0, 3, 6, 7, 9, 10), (0, 4, 6, 7, 9, 10), (1, 3, 4, 6, 7, 9), (1, 3, 4, 7, 9, 10)], [(0, 1, 3, 6, 8, 9), (0, 1, 4, 8, 9, 10), (0, 3, 6, 8, 9, 10), (0, 4, 6, 8, 9, 10), (1, 3, 4, 6, 8, 9), (1, 3, 4, 8, 9, 10)], [(0, 1, 3, 7, 8, 9), (0, 1, 4, 7, 8, 9), (0, 3, 7, 8, 9, 10), (0, 4, 6, 7, 8, 9), (3, 4, 6, 7, 8, 9), (3, 4, 7, 8, 9, 10)], [(0, 1, 5, 6, 7, 8), (0, 1, 5, 7, 8, 10), (1, 3, 5, 7, 8, 10), (1, 4, 5, 6, 7, 8), (3, 5, 6, 7, 8, 10), (4, 5, 6, 7, 8, 10)], [(0, 1, 5, 6, 7, 9), (0, 1, 5, 7, 9, 10), (1, 3, 5, 7, 9, 10), (1, 4, 5, 6, 7, 9), (3, 5, 6, 7, 9, 10), (4, 5, 6, 7, 9, 10)], [(0, 1, 5, 6, 8, 9), (0, 1, 5, 8, 9, 10), (1, 3, 5, 8, 9, 10), (1, 4, 5, 6, 8, 9), (3, 5, 6, 8, 9, 10), (4, 5, 6, 8, 9, 10)], [(0, 1, 5, 7, 8, 9), (3, 5, 7, 8, 9, 10), (4, 5, 6, 7, 8, 9)], [(0, 1, 6, 7, 8, 9), (0, 1, 7, 8, 9, 10), (1, 3, 7, 8, 9, 10), (1, 4, 6, 7, 8, 9), (3, 6, 7, 8, 9, 10), (4, 6, 7, 8, 9, 10)], [(0, 2, 5, 6, 7, 8), (0, 2, 5, 7, 8, 10), (1, 2, 3, 5, 7, 8), (1, 2, 4, 5, 7, 8), (2, 3, 5, 6, 7, 8), (2, 4, 5, 7, 8, 10)], [(0, 2, 5, 6, 7, 9), (0, 2, 5, 7, 9, 10), (1, 2, 3, 5, 7, 9), (1, 2, 4, 5, 7, 9), (2, 3, 5, 6, 7, 9), (2, 4, 5, 7, 9, 10)], [(0, 2, 5, 6, 8, 9), (0, 2, 5, 8, 9, 10), (1, 2, 3, 5, 8, 9), (1, 2, 4, 5, 8, 9), (2, 3, 5, 6, 8, 9), (2, 4, 5, 8, 9, 10)], [(0, 2, 5, 7, 8, 9), (2, 3, 5, 7, 8, 9), (2, 4, 5, 7, 8, 9)], [(0, 2, 6, 7, 8, 9), (0, 2, 7, 8, 9, 10), (1, 2, 3, 7, 8, 9), (1, 2, 4, 7, 8, 9), (2, 3, 6, 7, 8, 9), (2, 4, 7, 8, 9, 10)], [(0, 5, 6, 7, 8, 9), (0, 5, 7, 8, 9, 10), (1, 3, 5, 7, 8, 9), (1, 4, 5, 7, 8, 9), (3, 5, 6, 7, 8, 9), (4, 5, 7, 8, 9, 10)], [(1, 2, 5, 7, 8, 9), (2, 5, 6, 7, 8, 9), (2, 5, 7, 8, 9, 10)]]\n"
     ]
    }
   ],
   "source": [
    "print(\"0-faces:\",zero_faces)\n",
    "print(\"1-faces:\",one_faces)\n",
    "print(\"2-faces:\",two_faces)\n",
    "print(\"3-faces:\",three_faces)\n",
    "print(\"4-faces:\",four_faces)\n",
    "print(\"5-faces:\",five_faces)"
   ]
  },
  {
   "cell_type": "code",
   "execution_count": 102,
   "metadata": {},
   "outputs": [
    {
     "data": {
      "text/plain": [
       "127"
      ]
     },
     "execution_count": 102,
     "metadata": {},
     "output_type": "execute_result"
    }
   ],
   "source": [
    "len(faces(2))"
   ]
  },
  {
   "cell_type": "code",
   "execution_count": 81,
   "metadata": {},
   "outputs": [
    {
     "data": {
      "text/plain": [
       "True"
      ]
     },
     "execution_count": 81,
     "metadata": {},
     "output_type": "execute_result"
    }
   ],
   "source": [
    "faces_glued(one_faces[1][0],one_faces[1][0],G,vertices)"
   ]
  },
  {
   "cell_type": "code",
   "execution_count": 84,
   "metadata": {},
   "outputs": [
    {
     "data": {
      "text/plain": [
       "True"
      ]
     },
     "execution_count": 84,
     "metadata": {},
     "output_type": "execute_result"
    }
   ],
   "source": [
    "trivial_self_gluing(one_faces[1][2],G,vertices)"
   ]
  },
  {
   "cell_type": "code",
   "execution_count": 18,
   "metadata": {},
   "outputs": [],
   "source": [
    "#TODO: compute boundary of each face\n",
    "#replace vertices with glued_verts, keep track of orientation\n",
    "def face_boundary(face):\n",
    "    boundary = []\n",
    "    for i in face:\n",
    "        face_remove_i = list(face)\n",
    "        face_remove_i.remove(i)\n",
    "        boundary.append(face_remove_i)\n",
    "    return boundary"
   ]
  },
  {
   "cell_type": "code",
   "execution_count": null,
   "metadata": {},
   "outputs": [],
   "source": []
  }
 ],
 "metadata": {
  "kernelspec": {
   "display_name": "SageMath 9.2",
   "language": "sage",
   "name": "sagemath"
  },
  "language_info": {
   "codemirror_mode": {
    "name": "ipython",
    "version": 3
   },
   "file_extension": ".py",
   "mimetype": "text/x-python",
   "name": "python",
   "nbconvert_exporter": "python",
   "pygments_lexer": "ipython3",
   "version": "3.7.7"
  }
 },
 "nbformat": 4,
 "nbformat_minor": 4
}
